{
 "cells": [
  {
   "cell_type": "markdown",
   "metadata": {},
   "source": [
    "## Определение перспективного тарифа для телеком компании"
   ]
  },
  {
   "cell_type": "markdown",
   "metadata": {},
   "source": [
    "### Описание задачи"
   ]
  },
  {
   "cell_type": "markdown",
   "metadata": {},
   "source": [
    "* Данный проект направлен на изучение данных о 500 пользователях телеком компании для определения одного из двух пользовательских тарифов (Smart или Ultra)\n"
   ]
  },
  {
   "cell_type": "markdown",
   "metadata": {},
   "source": [
    "Данные: 5 файлов\n",
    "* С информацией о 500 пользователях (имя, фамилия, город, тариф, возраст дата регистраици, дата ухода)\n",
    "* С длительностью каждого звонка пользователя и времени совершения звонка (год, месяц, день),\n",
    "* С объемом использованного интернет трафика по пользователям и времени захода в интернет(год, месяц, день)\n",
    "* С количеством отправленных сообщений по пользователям и времени отправки сообщения (год, месяц, день)\n",
    "* С описанием тарифов (плата за тариф, объем интернета, звонков и сообщений в тарифе, плата за превышение длительности звонков, интернет трафика и количества сообщений)"
   ]
  },
  {
   "cell_type": "markdown",
   "metadata": {},
   "source": [
    "### Оглавление\n",
    "* [Изучение и предобработка файлов](#1-bullet)\n",
    "* [Объединение файлов](#2-bullet)\n",
    "* [Расчет значений](#3-bullet)\n",
    "* [Визуализация](#4-bullet)\n",
    "* [Проверка гипотез](#5-bullet)\n",
    "* [Общий вывод](#6-bullet)"
   ]
  },
  {
   "cell_type": "markdown",
   "metadata": {},
   "source": [
    "### 1. Изучение и предобработка файлов. <a class=\"anchor\" id=\"1-bullet\"></a>"
   ]
  },
  {
   "cell_type": "markdown",
   "metadata": {},
   "source": [
    "Подключение библиотек"
   ]
  },
  {
   "cell_type": "code",
   "execution_count": 1,
   "metadata": {},
   "outputs": [],
   "source": [
    "import pandas as pd\n",
    "import datetime as dt\n",
    "import matplotlib.pyplot as plt\n",
    "import numpy as np\n",
    "import seaborn as sns\n",
    "from scipy import stats as st"
   ]
  },
  {
   "cell_type": "markdown",
   "metadata": {},
   "source": [
    "Откроем файлы"
   ]
  },
  {
   "cell_type": "code",
   "execution_count": 2,
   "metadata": {},
   "outputs": [],
   "source": [
    "data_calls = pd.read_csv('/datasets/calls.csv', sep=',')\n",
    "data_internet = pd.read_csv('/datasets/internet.csv', sep=',')\n",
    "data_messages = pd.read_csv('/datasets/messages.csv', sep=',')\n",
    "data_tariffs = pd.read_csv('/datasets/tariffs.csv', sep=',')\n",
    "data_users = pd.read_csv('/datasets/users.csv', sep=',')"
   ]
  },
  {
   "cell_type": "markdown",
   "metadata": {},
   "source": [
    "#### Посмотрим на каждый файл. Сначала изучим data_calls"
   ]
  },
  {
   "cell_type": "code",
   "execution_count": 3,
   "metadata": {},
   "outputs": [
    {
     "data": {
      "text/html": [
       "<div>\n",
       "<style scoped>\n",
       "    .dataframe tbody tr th:only-of-type {\n",
       "        vertical-align: middle;\n",
       "    }\n",
       "\n",
       "    .dataframe tbody tr th {\n",
       "        vertical-align: top;\n",
       "    }\n",
       "\n",
       "    .dataframe thead th {\n",
       "        text-align: right;\n",
       "    }\n",
       "</style>\n",
       "<table border=\"1\" class=\"dataframe\">\n",
       "  <thead>\n",
       "    <tr style=\"text-align: right;\">\n",
       "      <th></th>\n",
       "      <th>id</th>\n",
       "      <th>call_date</th>\n",
       "      <th>duration</th>\n",
       "      <th>user_id</th>\n",
       "    </tr>\n",
       "  </thead>\n",
       "  <tbody>\n",
       "    <tr>\n",
       "      <td>0</td>\n",
       "      <td>1000_0</td>\n",
       "      <td>2018-07-25</td>\n",
       "      <td>0.00</td>\n",
       "      <td>1000</td>\n",
       "    </tr>\n",
       "    <tr>\n",
       "      <td>1</td>\n",
       "      <td>1000_1</td>\n",
       "      <td>2018-08-17</td>\n",
       "      <td>0.00</td>\n",
       "      <td>1000</td>\n",
       "    </tr>\n",
       "    <tr>\n",
       "      <td>2</td>\n",
       "      <td>1000_2</td>\n",
       "      <td>2018-06-11</td>\n",
       "      <td>2.85</td>\n",
       "      <td>1000</td>\n",
       "    </tr>\n",
       "    <tr>\n",
       "      <td>3</td>\n",
       "      <td>1000_3</td>\n",
       "      <td>2018-09-21</td>\n",
       "      <td>13.80</td>\n",
       "      <td>1000</td>\n",
       "    </tr>\n",
       "    <tr>\n",
       "      <td>4</td>\n",
       "      <td>1000_4</td>\n",
       "      <td>2018-12-15</td>\n",
       "      <td>5.18</td>\n",
       "      <td>1000</td>\n",
       "    </tr>\n",
       "    <tr>\n",
       "      <td>5</td>\n",
       "      <td>1000_5</td>\n",
       "      <td>2018-11-02</td>\n",
       "      <td>0.00</td>\n",
       "      <td>1000</td>\n",
       "    </tr>\n",
       "    <tr>\n",
       "      <td>6</td>\n",
       "      <td>1000_6</td>\n",
       "      <td>2018-10-18</td>\n",
       "      <td>0.00</td>\n",
       "      <td>1000</td>\n",
       "    </tr>\n",
       "    <tr>\n",
       "      <td>7</td>\n",
       "      <td>1000_7</td>\n",
       "      <td>2018-08-22</td>\n",
       "      <td>18.31</td>\n",
       "      <td>1000</td>\n",
       "    </tr>\n",
       "    <tr>\n",
       "      <td>8</td>\n",
       "      <td>1000_8</td>\n",
       "      <td>2018-09-15</td>\n",
       "      <td>18.44</td>\n",
       "      <td>1000</td>\n",
       "    </tr>\n",
       "    <tr>\n",
       "      <td>9</td>\n",
       "      <td>1000_9</td>\n",
       "      <td>2018-08-15</td>\n",
       "      <td>0.00</td>\n",
       "      <td>1000</td>\n",
       "    </tr>\n",
       "  </tbody>\n",
       "</table>\n",
       "</div>"
      ],
      "text/plain": [
       "       id   call_date  duration  user_id\n",
       "0  1000_0  2018-07-25      0.00     1000\n",
       "1  1000_1  2018-08-17      0.00     1000\n",
       "2  1000_2  2018-06-11      2.85     1000\n",
       "3  1000_3  2018-09-21     13.80     1000\n",
       "4  1000_4  2018-12-15      5.18     1000\n",
       "5  1000_5  2018-11-02      0.00     1000\n",
       "6  1000_6  2018-10-18      0.00     1000\n",
       "7  1000_7  2018-08-22     18.31     1000\n",
       "8  1000_8  2018-09-15     18.44     1000\n",
       "9  1000_9  2018-08-15      0.00     1000"
      ]
     },
     "metadata": {},
     "output_type": "display_data"
    },
    {
     "name": "stdout",
     "output_type": "stream",
     "text": [
      "<class 'pandas.core.frame.DataFrame'>\n",
      "RangeIndex: 202607 entries, 0 to 202606\n",
      "Data columns (total 4 columns):\n",
      "id           202607 non-null object\n",
      "call_date    202607 non-null object\n",
      "duration     202607 non-null float64\n",
      "user_id      202607 non-null int64\n",
      "dtypes: float64(1), int64(1), object(2)\n",
      "memory usage: 6.2+ MB\n"
     ]
    },
    {
     "data": {
      "text/plain": [
       "duration\n",
       "0.00     39613\n",
       "0.01       101\n",
       "0.02        84\n",
       "0.03        80\n",
       "0.04        85\n",
       "         ...  \n",
       "35.95        1\n",
       "36.12        1\n",
       "36.47        1\n",
       "37.35        1\n",
       "38.00        1\n",
       "Name: duration, Length: 2871, dtype: int64"
      ]
     },
     "execution_count": 3,
     "metadata": {},
     "output_type": "execute_result"
    }
   ],
   "source": [
    "display(data_calls.head(10))\n",
    "data_calls.info()\n",
    "data_calls.groupby('duration')['duration'].count()"
   ]
  },
  {
   "cell_type": "markdown",
   "metadata": {},
   "source": [
    "В файле нет пропусков, но есть нулевая длительность звонков. Посмотрим, какой процент составляют нулевые значения"
   ]
  },
  {
   "cell_type": "code",
   "execution_count": 4,
   "metadata": {},
   "outputs": [
    {
     "data": {
      "text/plain": [
       "0.196"
      ]
     },
     "execution_count": 4,
     "metadata": {},
     "output_type": "execute_result"
    }
   ],
   "source": [
    "round(data_calls.query('duration == 0')['duration'].count()/len(data_calls),3)"
   ]
  },
  {
   "cell_type": "markdown",
   "metadata": {},
   "source": [
    "Сделаем отдельный столбец с месяцем, чтобы подробнее рассмотреть причину нулевых значений"
   ]
  },
  {
   "cell_type": "code",
   "execution_count": 5,
   "metadata": {},
   "outputs": [
    {
     "data": {
      "text/plain": [
       "month\n",
       "1      312\n",
       "2      623\n",
       "3     1304\n",
       "4     1768\n",
       "5     2531\n",
       "6     2883\n",
       "7     3518\n",
       "8     4231\n",
       "9     4615\n",
       "10    5389\n",
       "11    5837\n",
       "12    6602\n",
       "Name: duration, dtype: int64"
      ]
     },
     "execution_count": 5,
     "metadata": {},
     "output_type": "execute_result"
    }
   ],
   "source": [
    "data_calls['call_date'] = pd.to_datetime(data_calls['call_date'], format = '%Y-%m-%d')\n",
    "data_calls['month'] = data_calls['call_date'].dt.month\n",
    "data_calls.query('duration == 0').groupby('month')['duration'].count()"
   ]
  },
  {
   "cell_type": "markdown",
   "metadata": {},
   "source": [
    "Пропуски распределены неравномерно по месяцам. Количество пропусков увеличивается каждый месяц. Пока не поятно, с чем это связано. Посмотрим группировку по пользователям"
   ]
  },
  {
   "cell_type": "code",
   "execution_count": 6,
   "metadata": {},
   "outputs": [
    {
     "data": {
      "text/plain": [
       "user_id\n",
       "1377    336\n",
       "1168    308\n",
       "1453    295\n",
       "1375    290\n",
       "1196    262\n",
       "       ... \n",
       "1206      6\n",
       "1442      5\n",
       "1406      5\n",
       "1084      5\n",
       "1424      5\n",
       "Name: duration, Length: 492, dtype: int64"
      ]
     },
     "execution_count": 6,
     "metadata": {},
     "output_type": "execute_result"
    }
   ],
   "source": [
    "data_calls.query('duration == 0').groupby('user_id')['duration'].count().sort_values(ascending = False)"
   ]
  },
  {
   "cell_type": "markdown",
   "metadata": {},
   "source": [
    "Посмотрим процент пропусков у каждого пользователя. Если этот процент отличается, то не будем учитывать звонки конкретных пользователей"
   ]
  },
  {
   "cell_type": "code",
   "execution_count": 7,
   "metadata": {},
   "outputs": [
    {
     "data": {
      "text/plain": [
       "Text(0, 0.5, '% звонков с нулевой длительностью')"
      ]
     },
     "execution_count": 7,
     "metadata": {},
     "output_type": "execute_result"
    },
    {
     "data": {
      "image/png": "[encoded data removed]",
      "text/plain": [
       "<Figure size 720x360 with 1 Axes>"
      ]
     },
     "metadata": {
      "needs_background": "light"
     },
     "output_type": "display_data"
    }
   ],
   "source": [
    "grouped_calls = pd.pivot_table(data_calls, index = 'user_id', values = ['id'], aggfunc = 'count' )\n",
    "missing_calls = pd.pivot_table(data_calls.query('duration == 0'), index = 'user_id', values = 'id', aggfunc = 'count' )\n",
    "grouped_calls = grouped_calls.join(missing_calls, how = 'outer', rsuffix = '_x')\n",
    "grouped_calls.columns = ['total_number_of_calls', 'number_of_missing_calls']\n",
    "grouped_calls ['%_missing_calls'] = round(grouped_calls['number_of_missing_calls']/ grouped_calls['total_number_of_calls'],2)\n",
    "missing_calls_plot = grouped_calls.sort_values('%_missing_calls', ascending = False).\\\n",
    "plot(title = '% звонков с нулевой длительностью от общего количества звонков по пользователям,сгруппированным по убыванию'\\\n",
    "     ,y= '%_missing_calls',kind = 'bar', figsize = (10,5))\n",
    "missing_calls_plot.set_xticklabels('')\n",
    "plt.xlabel('User_id')\n",
    "plt.ylabel('% звонков с нулевой длительностью')"
   ]
  },
  {
   "cell_type": "markdown",
   "metadata": {},
   "source": [
    "Процент пропусков примерно одинаковый у всех пользователей - от 15% до 20%. Отсюда вывод, что пропуски связаны не с конкретным пользователем, а присуще всей выборке. Гипотеза, что это ошибка при сборе данных, пропуски на самом деле - не звонки.\n",
    "* 1) При исключении пропусков общее количество секунд разговора не изменится, уменьшится количество звонков в среднем на 20%, среднее количество секунд разговора для пользователя увеличится, медиана увеличится незначительно.\n",
    "* 2) При замене 0 на None общее количетво секунд разговора не изменится, количество звонков не изменится, среднее количество секунд разговора для пользователя увеличится, медиана увеличится незначительно.\n",
    "* 3) При оставлении пропусков среднее количество секунд разговора будет ниже реальных\n",
    "* Самым оптимальным вариантом является вариант 1) и 2), так как для дальнейшего анализа необходимо может потребоваться расчет среднего и медианного времени разговора. В варианте 3 среднее будет отличаться от реального и отличаться от медианы. Выберем вариант 1, чтобы усокорить работу с файлами."
   ]
  },
  {
   "cell_type": "code",
   "execution_count": 8,
   "metadata": {},
   "outputs": [
    {
     "name": "stdout",
     "output_type": "stream",
     "text": [
      "Среднее значение длительности звонка перед удалением равно 6.755887210214849\n",
      "Медианное значение длительности звонка перед удалением равно 6.0\n",
      "Среднее значение длительности звонка после удаления равно 8.39779402922807\n",
      "Медианное значение длительности звонка после удаления равно 7.74\n"
     ]
    }
   ],
   "source": [
    "print('Среднее значение длительности звонка перед удалением равно', data_calls['duration'].mean())\n",
    "print('Медианное значение длительности звонка перед удалением равно', data_calls['duration'].median())\n",
    "data_calls = data_calls.drop(data_calls[data_calls['duration'] == 0].index)\n",
    "data_calls.head(10)\n",
    "print('Среднее значение длительности звонка после удаления равно', data_calls['duration'].mean())\n",
    "print('Медианное значение длительности звонка после удаления равно', data_calls['duration'].median())"
   ]
  },
  {
   "cell_type": "markdown",
   "metadata": {},
   "source": [
    "#### Изучим data_internet"
   ]
  },
  {
   "cell_type": "code",
   "execution_count": 9,
   "metadata": {},
   "outputs": [
    {
     "data": {
      "text/html": [
       "<div>\n",
       "<style scoped>\n",
       "    .dataframe tbody tr th:only-of-type {\n",
       "        vertical-align: middle;\n",
       "    }\n",
       "\n",
       "    .dataframe tbody tr th {\n",
       "        vertical-align: top;\n",
       "    }\n",
       "\n",
       "    .dataframe thead th {\n",
       "        text-align: right;\n",
       "    }\n",
       "</style>\n",
       "<table border=\"1\" class=\"dataframe\">\n",
       "  <thead>\n",
       "    <tr style=\"text-align: right;\">\n",
       "      <th></th>\n",
       "      <th>Unnamed: 0</th>\n",
       "      <th>id</th>\n",
       "      <th>mb_used</th>\n",
       "      <th>session_date</th>\n",
       "      <th>user_id</th>\n",
       "    </tr>\n",
       "  </thead>\n",
       "  <tbody>\n",
       "    <tr>\n",
       "      <td>0</td>\n",
       "      <td>0</td>\n",
       "      <td>1000_0</td>\n",
       "      <td>112.95</td>\n",
       "      <td>2018-11-25</td>\n",
       "      <td>1000</td>\n",
       "    </tr>\n",
       "    <tr>\n",
       "      <td>1</td>\n",
       "      <td>1</td>\n",
       "      <td>1000_1</td>\n",
       "      <td>1052.81</td>\n",
       "      <td>2018-09-07</td>\n",
       "      <td>1000</td>\n",
       "    </tr>\n",
       "    <tr>\n",
       "      <td>2</td>\n",
       "      <td>2</td>\n",
       "      <td>1000_2</td>\n",
       "      <td>1197.26</td>\n",
       "      <td>2018-06-25</td>\n",
       "      <td>1000</td>\n",
       "    </tr>\n",
       "    <tr>\n",
       "      <td>3</td>\n",
       "      <td>3</td>\n",
       "      <td>1000_3</td>\n",
       "      <td>550.27</td>\n",
       "      <td>2018-08-22</td>\n",
       "      <td>1000</td>\n",
       "    </tr>\n",
       "    <tr>\n",
       "      <td>4</td>\n",
       "      <td>4</td>\n",
       "      <td>1000_4</td>\n",
       "      <td>302.56</td>\n",
       "      <td>2018-09-24</td>\n",
       "      <td>1000</td>\n",
       "    </tr>\n",
       "    <tr>\n",
       "      <td>5</td>\n",
       "      <td>5</td>\n",
       "      <td>1000_5</td>\n",
       "      <td>399.97</td>\n",
       "      <td>2018-10-02</td>\n",
       "      <td>1000</td>\n",
       "    </tr>\n",
       "    <tr>\n",
       "      <td>6</td>\n",
       "      <td>6</td>\n",
       "      <td>1000_6</td>\n",
       "      <td>540.08</td>\n",
       "      <td>2018-09-07</td>\n",
       "      <td>1000</td>\n",
       "    </tr>\n",
       "    <tr>\n",
       "      <td>7</td>\n",
       "      <td>7</td>\n",
       "      <td>1000_7</td>\n",
       "      <td>415.70</td>\n",
       "      <td>2018-07-11</td>\n",
       "      <td>1000</td>\n",
       "    </tr>\n",
       "    <tr>\n",
       "      <td>8</td>\n",
       "      <td>8</td>\n",
       "      <td>1000_8</td>\n",
       "      <td>505.40</td>\n",
       "      <td>2018-10-08</td>\n",
       "      <td>1000</td>\n",
       "    </tr>\n",
       "    <tr>\n",
       "      <td>9</td>\n",
       "      <td>9</td>\n",
       "      <td>1000_9</td>\n",
       "      <td>345.54</td>\n",
       "      <td>2018-09-03</td>\n",
       "      <td>1000</td>\n",
       "    </tr>\n",
       "  </tbody>\n",
       "</table>\n",
       "</div>"
      ],
      "text/plain": [
       "   Unnamed: 0      id  mb_used session_date  user_id\n",
       "0           0  1000_0   112.95   2018-11-25     1000\n",
       "1           1  1000_1  1052.81   2018-09-07     1000\n",
       "2           2  1000_2  1197.26   2018-06-25     1000\n",
       "3           3  1000_3   550.27   2018-08-22     1000\n",
       "4           4  1000_4   302.56   2018-09-24     1000\n",
       "5           5  1000_5   399.97   2018-10-02     1000\n",
       "6           6  1000_6   540.08   2018-09-07     1000\n",
       "7           7  1000_7   415.70   2018-07-11     1000\n",
       "8           8  1000_8   505.40   2018-10-08     1000\n",
       "9           9  1000_9   345.54   2018-09-03     1000"
      ]
     },
     "metadata": {},
     "output_type": "display_data"
    },
    {
     "name": "stdout",
     "output_type": "stream",
     "text": [
      "<class 'pandas.core.frame.DataFrame'>\n",
      "RangeIndex: 149396 entries, 0 to 149395\n",
      "Data columns (total 5 columns):\n",
      "Unnamed: 0      149396 non-null int64\n",
      "id              149396 non-null object\n",
      "mb_used         149396 non-null float64\n",
      "session_date    149396 non-null object\n",
      "user_id         149396 non-null int64\n",
      "dtypes: float64(1), int64(2), object(2)\n",
      "memory usage: 5.7+ MB\n"
     ]
    },
    {
     "data": {
      "text/plain": [
       "mb_used\n",
       "0.00       19598\n",
       "0.03           1\n",
       "0.04           1\n",
       "0.06           1\n",
       "0.07           2\n",
       "           ...  \n",
       "1623.92        1\n",
       "1651.25        1\n",
       "1651.55        1\n",
       "1702.75        1\n",
       "1724.83        1\n",
       "Name: mb_used, Length: 70003, dtype: int64"
      ]
     },
     "execution_count": 9,
     "metadata": {},
     "output_type": "execute_result"
    }
   ],
   "source": [
    "display(data_internet.head(10))\n",
    "data_internet.info()\n",
    "data_internet.groupby('mb_used')['mb_used'].count()"
   ]
  },
  {
   "cell_type": "markdown",
   "metadata": {},
   "source": [
    "В файле отсутствуют пропуски, но есть нулевые значения использования интернета (в МБ). Для принятия решения о 0 значениях разберемся в данных. Посмотрим, какой процент составляют нулевые значения"
   ]
  },
  {
   "cell_type": "code",
   "execution_count": 10,
   "metadata": {},
   "outputs": [
    {
     "data": {
      "text/plain": [
       "0.131"
      ]
     },
     "execution_count": 10,
     "metadata": {},
     "output_type": "execute_result"
    }
   ],
   "source": [
    "round(data_internet.query('mb_used == 0')['mb_used'].count()/len(data_internet),3)"
   ]
  },
  {
   "cell_type": "markdown",
   "metadata": {},
   "source": [
    "Гипотеза, что 0 значения - это системные входы телефона/планшета в интернет, которые из-за округления составляют меньше 10 КБ. Проверим гипотезу. Если процент значений одинаковый для всех пользователей, то можно считать пропуски- системными файлами, поэтому их оставим"
   ]
  },
  {
   "cell_type": "code",
   "execution_count": 11,
   "metadata": {},
   "outputs": [
    {
     "data": {
      "text/plain": [
       "month\n",
       "1      151\n",
       "2      378\n",
       "3      623\n",
       "4      819\n",
       "5     1199\n",
       "6     1401\n",
       "7     1760\n",
       "8     2083\n",
       "9     2314\n",
       "10    2642\n",
       "11    2907\n",
       "12    3321\n",
       "Name: mb_used, dtype: int64"
      ]
     },
     "execution_count": 11,
     "metadata": {},
     "output_type": "execute_result"
    }
   ],
   "source": [
    "data_internet['session_date'] = pd.to_datetime(data_internet['session_date'], format = '%Y-%m-%d')\n",
    "data_internet['month'] = data_internet['session_date'].dt.month\n",
    "data_internet.query('mb_used == 0').groupby('month')['mb_used'].count()"
   ]
  },
  {
   "cell_type": "markdown",
   "metadata": {},
   "source": [
    "Пропуски распределены неравномерно по месяцам. Количество пропусков увеличивается каждый месяц также, как и для количества звонков. Не понятно, с чем это связано. Посмотрим группировку по пользователям"
   ]
  },
  {
   "cell_type": "code",
   "execution_count": 12,
   "metadata": {},
   "outputs": [
    {
     "data": {
      "text/plain": [
       "Text(0, 0.5, '% интернет сессий с нулевой длительностью')"
      ]
     },
     "execution_count": 12,
     "metadata": {},
     "output_type": "execute_result"
    },
    {
     "data": {
      "image/png": "[encoded data removed]",
      "text/plain": [
       "<Figure size 720x360 with 1 Axes>"
      ]
     },
     "metadata": {
      "needs_background": "light"
     },
     "output_type": "display_data"
    }
   ],
   "source": [
    "grouped_internet = pd.pivot_table(data_internet, index = 'user_id', values = ['id'], aggfunc = 'count' )\n",
    "missing_internet = pd.pivot_table(data_internet.query('mb_used == 0'), index = 'user_id', values = 'id', aggfunc = 'count' )\n",
    "grouped_internet = grouped_internet.join(missing_internet, how = 'outer', rsuffix = '_x')\n",
    "grouped_internet.columns = ['total_number_of_sessions', 'number_of_zero_internet']\n",
    "grouped_internet ['%_zero_internet'] = round(grouped_internet['number_of_zero_internet']/ grouped_internet['total_number_of_sessions'],2)\n",
    "grouped_internet.sort_values('%_zero_internet', ascending = False)\n",
    "missing_trafic_plot = grouped_internet.sort_values('%_zero_internet', ascending = False).\\\n",
    "plot(title = '% количества интернет сессий с нулевым трафиком от общего количества интернет сессий по пользователям,\\\n",
    "сгруппированным по убыванию',y= '%_zero_internet', kind = 'bar',figsize = (10,5))\n",
    "\n",
    "missing_trafic_plot.set_xticklabels('')\n",
    "plt.xlabel('User_id')\n",
    "plt.ylabel('% интернет сессий с нулевой длительностью')"
   ]
  },
  {
   "cell_type": "markdown",
   "metadata": {},
   "source": [
    "Процент сессий с 0 значеинем не равномерно распределен. Отвергаем гипотезу, что пропуски образуются из-за округления от работы системных файлов. Оставляеем пропущенные значения, так как не понимаем их природу"
   ]
  },
  {
   "cell_type": "markdown",
   "metadata": {},
   "source": [
    "#### Изучим data_messages"
   ]
  },
  {
   "cell_type": "code",
   "execution_count": 13,
   "metadata": {},
   "outputs": [
    {
     "data": {
      "text/html": [
       "<div>\n",
       "<style scoped>\n",
       "    .dataframe tbody tr th:only-of-type {\n",
       "        vertical-align: middle;\n",
       "    }\n",
       "\n",
       "    .dataframe tbody tr th {\n",
       "        vertical-align: top;\n",
       "    }\n",
       "\n",
       "    .dataframe thead th {\n",
       "        text-align: right;\n",
       "    }\n",
       "</style>\n",
       "<table border=\"1\" class=\"dataframe\">\n",
       "  <thead>\n",
       "    <tr style=\"text-align: right;\">\n",
       "      <th></th>\n",
       "      <th>id</th>\n",
       "      <th>message_date</th>\n",
       "      <th>user_id</th>\n",
       "    </tr>\n",
       "  </thead>\n",
       "  <tbody>\n",
       "    <tr>\n",
       "      <td>0</td>\n",
       "      <td>1000_0</td>\n",
       "      <td>2018-06-27</td>\n",
       "      <td>1000</td>\n",
       "    </tr>\n",
       "    <tr>\n",
       "      <td>1</td>\n",
       "      <td>1000_1</td>\n",
       "      <td>2018-10-08</td>\n",
       "      <td>1000</td>\n",
       "    </tr>\n",
       "    <tr>\n",
       "      <td>2</td>\n",
       "      <td>1000_2</td>\n",
       "      <td>2018-08-04</td>\n",
       "      <td>1000</td>\n",
       "    </tr>\n",
       "    <tr>\n",
       "      <td>3</td>\n",
       "      <td>1000_3</td>\n",
       "      <td>2018-06-16</td>\n",
       "      <td>1000</td>\n",
       "    </tr>\n",
       "    <tr>\n",
       "      <td>4</td>\n",
       "      <td>1000_4</td>\n",
       "      <td>2018-12-05</td>\n",
       "      <td>1000</td>\n",
       "    </tr>\n",
       "    <tr>\n",
       "      <td>5</td>\n",
       "      <td>1000_5</td>\n",
       "      <td>2018-06-20</td>\n",
       "      <td>1000</td>\n",
       "    </tr>\n",
       "    <tr>\n",
       "      <td>6</td>\n",
       "      <td>1000_6</td>\n",
       "      <td>2018-11-19</td>\n",
       "      <td>1000</td>\n",
       "    </tr>\n",
       "    <tr>\n",
       "      <td>7</td>\n",
       "      <td>1000_7</td>\n",
       "      <td>2018-10-29</td>\n",
       "      <td>1000</td>\n",
       "    </tr>\n",
       "    <tr>\n",
       "      <td>8</td>\n",
       "      <td>1000_8</td>\n",
       "      <td>2018-06-25</td>\n",
       "      <td>1000</td>\n",
       "    </tr>\n",
       "    <tr>\n",
       "      <td>9</td>\n",
       "      <td>1000_9</td>\n",
       "      <td>2018-12-18</td>\n",
       "      <td>1000</td>\n",
       "    </tr>\n",
       "  </tbody>\n",
       "</table>\n",
       "</div>"
      ],
      "text/plain": [
       "       id message_date  user_id\n",
       "0  1000_0   2018-06-27     1000\n",
       "1  1000_1   2018-10-08     1000\n",
       "2  1000_2   2018-08-04     1000\n",
       "3  1000_3   2018-06-16     1000\n",
       "4  1000_4   2018-12-05     1000\n",
       "5  1000_5   2018-06-20     1000\n",
       "6  1000_6   2018-11-19     1000\n",
       "7  1000_7   2018-10-29     1000\n",
       "8  1000_8   2018-06-25     1000\n",
       "9  1000_9   2018-12-18     1000"
      ]
     },
     "metadata": {},
     "output_type": "display_data"
    },
    {
     "name": "stdout",
     "output_type": "stream",
     "text": [
      "<class 'pandas.core.frame.DataFrame'>\n",
      "RangeIndex: 123036 entries, 0 to 123035\n",
      "Data columns (total 3 columns):\n",
      "id              123036 non-null object\n",
      "message_date    123036 non-null object\n",
      "user_id         123036 non-null int64\n",
      "dtypes: int64(1), object(2)\n",
      "memory usage: 2.8+ MB\n"
     ]
    }
   ],
   "source": [
    "display(data_messages.head(10))\n",
    "data_messages.info()"
   ]
  },
  {
   "cell_type": "markdown",
   "metadata": {},
   "source": [
    "В файле нет пропусков и подозрительных значений, так как файл содежит только дату и id пользователя"
   ]
  },
  {
   "cell_type": "markdown",
   "metadata": {},
   "source": [
    "#### Изучим data_users"
   ]
  },
  {
   "cell_type": "code",
   "execution_count": 14,
   "metadata": {},
   "outputs": [
    {
     "data": {
      "text/html": [
       "<div>\n",
       "<style scoped>\n",
       "    .dataframe tbody tr th:only-of-type {\n",
       "        vertical-align: middle;\n",
       "    }\n",
       "\n",
       "    .dataframe tbody tr th {\n",
       "        vertical-align: top;\n",
       "    }\n",
       "\n",
       "    .dataframe thead th {\n",
       "        text-align: right;\n",
       "    }\n",
       "</style>\n",
       "<table border=\"1\" class=\"dataframe\">\n",
       "  <thead>\n",
       "    <tr style=\"text-align: right;\">\n",
       "      <th></th>\n",
       "      <th>user_id</th>\n",
       "      <th>age</th>\n",
       "      <th>churn_date</th>\n",
       "      <th>city</th>\n",
       "      <th>first_name</th>\n",
       "      <th>last_name</th>\n",
       "      <th>reg_date</th>\n",
       "      <th>tariff</th>\n",
       "    </tr>\n",
       "  </thead>\n",
       "  <tbody>\n",
       "    <tr>\n",
       "      <td>0</td>\n",
       "      <td>1000</td>\n",
       "      <td>52</td>\n",
       "      <td>NaN</td>\n",
       "      <td>Краснодар</td>\n",
       "      <td>Рафаил</td>\n",
       "      <td>Верещагин</td>\n",
       "      <td>2018-05-25</td>\n",
       "      <td>ultra</td>\n",
       "    </tr>\n",
       "    <tr>\n",
       "      <td>1</td>\n",
       "      <td>1001</td>\n",
       "      <td>41</td>\n",
       "      <td>NaN</td>\n",
       "      <td>Москва</td>\n",
       "      <td>Иван</td>\n",
       "      <td>Ежов</td>\n",
       "      <td>2018-11-01</td>\n",
       "      <td>smart</td>\n",
       "    </tr>\n",
       "    <tr>\n",
       "      <td>2</td>\n",
       "      <td>1002</td>\n",
       "      <td>59</td>\n",
       "      <td>NaN</td>\n",
       "      <td>Стерлитамак</td>\n",
       "      <td>Евгений</td>\n",
       "      <td>Абрамович</td>\n",
       "      <td>2018-06-17</td>\n",
       "      <td>smart</td>\n",
       "    </tr>\n",
       "    <tr>\n",
       "      <td>3</td>\n",
       "      <td>1003</td>\n",
       "      <td>23</td>\n",
       "      <td>NaN</td>\n",
       "      <td>Москва</td>\n",
       "      <td>Белла</td>\n",
       "      <td>Белякова</td>\n",
       "      <td>2018-08-17</td>\n",
       "      <td>ultra</td>\n",
       "    </tr>\n",
       "    <tr>\n",
       "      <td>4</td>\n",
       "      <td>1004</td>\n",
       "      <td>68</td>\n",
       "      <td>NaN</td>\n",
       "      <td>Новокузнецк</td>\n",
       "      <td>Татьяна</td>\n",
       "      <td>Авдеенко</td>\n",
       "      <td>2018-05-14</td>\n",
       "      <td>ultra</td>\n",
       "    </tr>\n",
       "    <tr>\n",
       "      <td>5</td>\n",
       "      <td>1005</td>\n",
       "      <td>67</td>\n",
       "      <td>NaN</td>\n",
       "      <td>Набережные Челны</td>\n",
       "      <td>Афанасий</td>\n",
       "      <td>Горлов</td>\n",
       "      <td>2018-01-25</td>\n",
       "      <td>smart</td>\n",
       "    </tr>\n",
       "    <tr>\n",
       "      <td>6</td>\n",
       "      <td>1006</td>\n",
       "      <td>21</td>\n",
       "      <td>NaN</td>\n",
       "      <td>Ульяновск</td>\n",
       "      <td>Леонид</td>\n",
       "      <td>Ермолаев</td>\n",
       "      <td>2018-02-26</td>\n",
       "      <td>smart</td>\n",
       "    </tr>\n",
       "    <tr>\n",
       "      <td>7</td>\n",
       "      <td>1007</td>\n",
       "      <td>65</td>\n",
       "      <td>NaN</td>\n",
       "      <td>Москва</td>\n",
       "      <td>Юна</td>\n",
       "      <td>Березина</td>\n",
       "      <td>2018-04-19</td>\n",
       "      <td>smart</td>\n",
       "    </tr>\n",
       "    <tr>\n",
       "      <td>8</td>\n",
       "      <td>1008</td>\n",
       "      <td>63</td>\n",
       "      <td>NaN</td>\n",
       "      <td>Челябинск</td>\n",
       "      <td>Рустэм</td>\n",
       "      <td>Пономарёв</td>\n",
       "      <td>2018-12-19</td>\n",
       "      <td>smart</td>\n",
       "    </tr>\n",
       "    <tr>\n",
       "      <td>9</td>\n",
       "      <td>1009</td>\n",
       "      <td>24</td>\n",
       "      <td>NaN</td>\n",
       "      <td>Пермь</td>\n",
       "      <td>Василиса</td>\n",
       "      <td>Блинова</td>\n",
       "      <td>2018-03-22</td>\n",
       "      <td>smart</td>\n",
       "    </tr>\n",
       "  </tbody>\n",
       "</table>\n",
       "</div>"
      ],
      "text/plain": [
       "   user_id  age churn_date              city first_name  last_name  \\\n",
       "0     1000   52        NaN         Краснодар     Рафаил  Верещагин   \n",
       "1     1001   41        NaN            Москва       Иван       Ежов   \n",
       "2     1002   59        NaN       Стерлитамак    Евгений  Абрамович   \n",
       "3     1003   23        NaN            Москва      Белла   Белякова   \n",
       "4     1004   68        NaN       Новокузнецк    Татьяна   Авдеенко   \n",
       "5     1005   67        NaN  Набережные Челны   Афанасий     Горлов   \n",
       "6     1006   21        NaN         Ульяновск     Леонид   Ермолаев   \n",
       "7     1007   65        NaN            Москва        Юна   Березина   \n",
       "8     1008   63        NaN         Челябинск     Рустэм  Пономарёв   \n",
       "9     1009   24        NaN             Пермь   Василиса    Блинова   \n",
       "\n",
       "     reg_date tariff  \n",
       "0  2018-05-25  ultra  \n",
       "1  2018-11-01  smart  \n",
       "2  2018-06-17  smart  \n",
       "3  2018-08-17  ultra  \n",
       "4  2018-05-14  ultra  \n",
       "5  2018-01-25  smart  \n",
       "6  2018-02-26  smart  \n",
       "7  2018-04-19  smart  \n",
       "8  2018-12-19  smart  \n",
       "9  2018-03-22  smart  "
      ]
     },
     "metadata": {},
     "output_type": "display_data"
    },
    {
     "name": "stdout",
     "output_type": "stream",
     "text": [
      "<class 'pandas.core.frame.DataFrame'>\n",
      "RangeIndex: 500 entries, 0 to 499\n",
      "Data columns (total 8 columns):\n",
      "user_id       500 non-null int64\n",
      "age           500 non-null int64\n",
      "churn_date    38 non-null object\n",
      "city          500 non-null object\n",
      "first_name    500 non-null object\n",
      "last_name     500 non-null object\n",
      "reg_date      500 non-null object\n",
      "tariff        500 non-null object\n",
      "dtypes: int64(2), object(6)\n",
      "memory usage: 31.4+ KB\n"
     ]
    }
   ],
   "source": [
    "display(data_users.head(10))\n",
    "data_users.info()\n",
    "#display(data_users.groupby('age')['age'].count())"
   ]
  },
  {
   "cell_type": "markdown",
   "metadata": {},
   "source": [
    "В файле 462 пропуска в столбце \"дата прекращения пользования\", что говорит о том, что только 7,6% пользователей ушли от оператора. Пропущенных значений в столбце с возрастом нет. "
   ]
  },
  {
   "cell_type": "markdown",
   "metadata": {},
   "source": [
    "### Вывод"
   ]
  },
  {
   "cell_type": "markdown",
   "metadata": {},
   "source": [
    "* В файле с количеством звонком были звонки с нулевой длительностью (20% от всех звонков). Процент звонком в нулевой длительностью почти одинаковый для всех пользователей, поэтому природа пропусков - техническая, не связана с действиями пользователей. Удалили данные строки, чтобы расчет средней длительности и медианной был ближе к реальным значениям.\n",
    "* В файле с использованием интернета были сессии с нулевым использованием. Была гипотеза, что это системные заходы в интернет от программного обеспечения планшентов, телефонов, которые составляют меньше 10 КБ (порог округления). Данная гипотеза не подтвердилась, так как процент таких сессий отличается от пользователя к пользователю. Решил оставить эти значения, так как не понятна их природа.\n",
    "* В файле с количеством сообщений не выявлено пропусков или подозрительных значений."
   ]
  },
  {
   "cell_type": "markdown",
   "metadata": {},
   "source": [
    "### 2. Объединение файлов. <a class=\"anchor\" id=\"2-bullet\"></a>"
   ]
  },
  {
   "cell_type": "markdown",
   "metadata": {},
   "source": [
    "Сдеаем объединенную таблицу, содержащюю информацию по длительности звонков, количетсву сообщений, использованию интернета и информации по пользователям для каждого пользователя по месяцам для дальнейшего анализа, так как тарифы расчитываются на месяц. \n",
    "Для объединения таблиц сгрупируем все таблицы data_calls, data_messages, data_internet по пользователю и месяцу"
   ]
  },
  {
   "cell_type": "markdown",
   "metadata": {},
   "source": [
    "Округлим длительность звонков вверх, согласно методики оператора"
   ]
  },
  {
   "cell_type": "code",
   "execution_count": 15,
   "metadata": {},
   "outputs": [],
   "source": [
    "#data_calls['duration'] = round(data_calls['duration'] + 0.5, 0)\n",
    "\n",
    "# Обновленное решение\n",
    "data_calls['duration'] = data_calls['duration'].apply(np.ceil) \n",
    "#data_calls"
   ]
  },
  {
   "cell_type": "markdown",
   "metadata": {},
   "source": [
    "Сначала объединим таблицы data_calls и data_users и сделаем сводный таблицу для дальнейшего объединения"
   ]
  },
  {
   "cell_type": "code",
   "execution_count": 16,
   "metadata": {},
   "outputs": [
    {
     "data": {
      "text/html": [
       "<div>\n",
       "<style scoped>\n",
       "    .dataframe tbody tr th:only-of-type {\n",
       "        vertical-align: middle;\n",
       "    }\n",
       "\n",
       "    .dataframe tbody tr th {\n",
       "        vertical-align: top;\n",
       "    }\n",
       "\n",
       "    .dataframe thead th {\n",
       "        text-align: right;\n",
       "    }\n",
       "</style>\n",
       "<table border=\"1\" class=\"dataframe\">\n",
       "  <thead>\n",
       "    <tr style=\"text-align: right;\">\n",
       "      <th></th>\n",
       "      <th></th>\n",
       "      <th></th>\n",
       "      <th></th>\n",
       "      <th></th>\n",
       "      <th>duration</th>\n",
       "    </tr>\n",
       "    <tr>\n",
       "      <th>user_id</th>\n",
       "      <th>age</th>\n",
       "      <th>tariff</th>\n",
       "      <th>city</th>\n",
       "      <th>month</th>\n",
       "      <th></th>\n",
       "    </tr>\n",
       "  </thead>\n",
       "  <tbody>\n",
       "  </tbody>\n",
       "</table>\n",
       "</div>"
      ],
      "text/plain": [
       "Empty DataFrame\n",
       "Columns: [duration]\n",
       "Index: []"
      ]
     },
     "metadata": {},
     "output_type": "display_data"
    }
   ],
   "source": [
    "data_jointed = data_calls\n",
    "\n",
    "data_jointed = data_jointed.merge(data_users, on='user_id', how = 'outer') \n",
    "calls_grouped = pd.pivot_table(data_jointed, index = ['user_id','age','tariff','city','month'], values ='duration', aggfunc = 'sum')\n",
    "calls_grouped\n",
    "display(calls_grouped.query('user_id == 1328'))"
   ]
  },
  {
   "cell_type": "markdown",
   "metadata": {},
   "source": [
    "Сгруппируем таблицы data_internet и data_messages сначала также с data_user, чтобы не потерять пользователей, которые не испольовали сообщения/звонки/интернет. Если таблицы сначала объединить с data_users, а потом между собой, то не будет потери пользователей и остальных данных"
   ]
  },
  {
   "cell_type": "code",
   "execution_count": 17,
   "metadata": {},
   "outputs": [
    {
     "data": {
      "text/html": [
       "<div>\n",
       "<style scoped>\n",
       "    .dataframe tbody tr th:only-of-type {\n",
       "        vertical-align: middle;\n",
       "    }\n",
       "\n",
       "    .dataframe tbody tr th {\n",
       "        vertical-align: top;\n",
       "    }\n",
       "\n",
       "    .dataframe thead th {\n",
       "        text-align: right;\n",
       "    }\n",
       "</style>\n",
       "<table border=\"1\" class=\"dataframe\">\n",
       "  <thead>\n",
       "    <tr style=\"text-align: right;\">\n",
       "      <th></th>\n",
       "      <th>Unnamed: 0</th>\n",
       "      <th>id</th>\n",
       "      <th>mb_used</th>\n",
       "      <th>session_date</th>\n",
       "      <th>user_id</th>\n",
       "      <th>month</th>\n",
       "    </tr>\n",
       "  </thead>\n",
       "  <tbody>\n",
       "    <tr>\n",
       "      <td>0</td>\n",
       "      <td>0</td>\n",
       "      <td>1000_0</td>\n",
       "      <td>112.95</td>\n",
       "      <td>2018-11-25</td>\n",
       "      <td>1000</td>\n",
       "      <td>11</td>\n",
       "    </tr>\n",
       "    <tr>\n",
       "      <td>1</td>\n",
       "      <td>1</td>\n",
       "      <td>1000_1</td>\n",
       "      <td>1052.81</td>\n",
       "      <td>2018-09-07</td>\n",
       "      <td>1000</td>\n",
       "      <td>9</td>\n",
       "    </tr>\n",
       "    <tr>\n",
       "      <td>2</td>\n",
       "      <td>2</td>\n",
       "      <td>1000_2</td>\n",
       "      <td>1197.26</td>\n",
       "      <td>2018-06-25</td>\n",
       "      <td>1000</td>\n",
       "      <td>6</td>\n",
       "    </tr>\n",
       "    <tr>\n",
       "      <td>3</td>\n",
       "      <td>3</td>\n",
       "      <td>1000_3</td>\n",
       "      <td>550.27</td>\n",
       "      <td>2018-08-22</td>\n",
       "      <td>1000</td>\n",
       "      <td>8</td>\n",
       "    </tr>\n",
       "    <tr>\n",
       "      <td>4</td>\n",
       "      <td>4</td>\n",
       "      <td>1000_4</td>\n",
       "      <td>302.56</td>\n",
       "      <td>2018-09-24</td>\n",
       "      <td>1000</td>\n",
       "      <td>9</td>\n",
       "    </tr>\n",
       "    <tr>\n",
       "      <td>...</td>\n",
       "      <td>...</td>\n",
       "      <td>...</td>\n",
       "      <td>...</td>\n",
       "      <td>...</td>\n",
       "      <td>...</td>\n",
       "      <td>...</td>\n",
       "    </tr>\n",
       "    <tr>\n",
       "      <td>149391</td>\n",
       "      <td>149391</td>\n",
       "      <td>1499_152</td>\n",
       "      <td>318.90</td>\n",
       "      <td>2018-10-03</td>\n",
       "      <td>1499</td>\n",
       "      <td>10</td>\n",
       "    </tr>\n",
       "    <tr>\n",
       "      <td>149392</td>\n",
       "      <td>149392</td>\n",
       "      <td>1499_153</td>\n",
       "      <td>490.13</td>\n",
       "      <td>2018-12-14</td>\n",
       "      <td>1499</td>\n",
       "      <td>12</td>\n",
       "    </tr>\n",
       "    <tr>\n",
       "      <td>149393</td>\n",
       "      <td>149393</td>\n",
       "      <td>1499_154</td>\n",
       "      <td>0.00</td>\n",
       "      <td>2018-10-27</td>\n",
       "      <td>1499</td>\n",
       "      <td>10</td>\n",
       "    </tr>\n",
       "    <tr>\n",
       "      <td>149394</td>\n",
       "      <td>149394</td>\n",
       "      <td>1499_155</td>\n",
       "      <td>1246.32</td>\n",
       "      <td>2018-11-26</td>\n",
       "      <td>1499</td>\n",
       "      <td>11</td>\n",
       "    </tr>\n",
       "    <tr>\n",
       "      <td>149395</td>\n",
       "      <td>149395</td>\n",
       "      <td>1499_156</td>\n",
       "      <td>544.37</td>\n",
       "      <td>2018-10-26</td>\n",
       "      <td>1499</td>\n",
       "      <td>10</td>\n",
       "    </tr>\n",
       "  </tbody>\n",
       "</table>\n",
       "<p>149396 rows × 6 columns</p>\n",
       "</div>"
      ],
      "text/plain": [
       "        Unnamed: 0        id  mb_used session_date  user_id  month\n",
       "0                0    1000_0   112.95   2018-11-25     1000     11\n",
       "1                1    1000_1  1052.81   2018-09-07     1000      9\n",
       "2                2    1000_2  1197.26   2018-06-25     1000      6\n",
       "3                3    1000_3   550.27   2018-08-22     1000      8\n",
       "4                4    1000_4   302.56   2018-09-24     1000      9\n",
       "...            ...       ...      ...          ...      ...    ...\n",
       "149391      149391  1499_152   318.90   2018-10-03     1499     10\n",
       "149392      149392  1499_153   490.13   2018-12-14     1499     12\n",
       "149393      149393  1499_154     0.00   2018-10-27     1499     10\n",
       "149394      149394  1499_155  1246.32   2018-11-26     1499     11\n",
       "149395      149395  1499_156   544.37   2018-10-26     1499     10\n",
       "\n",
       "[149396 rows x 6 columns]"
      ]
     },
     "execution_count": 17,
     "metadata": {},
     "output_type": "execute_result"
    }
   ],
   "source": [
    "data_internet"
   ]
  },
  {
   "cell_type": "code",
   "execution_count": 18,
   "metadata": {},
   "outputs": [
    {
     "data": {
      "text/html": [
       "<div>\n",
       "<style scoped>\n",
       "    .dataframe tbody tr th:only-of-type {\n",
       "        vertical-align: middle;\n",
       "    }\n",
       "\n",
       "    .dataframe tbody tr th {\n",
       "        vertical-align: top;\n",
       "    }\n",
       "\n",
       "    .dataframe thead th {\n",
       "        text-align: right;\n",
       "    }\n",
       "</style>\n",
       "<table border=\"1\" class=\"dataframe\">\n",
       "  <thead>\n",
       "    <tr style=\"text-align: right;\">\n",
       "      <th></th>\n",
       "      <th></th>\n",
       "      <th></th>\n",
       "      <th></th>\n",
       "      <th></th>\n",
       "      <th>mb_used</th>\n",
       "    </tr>\n",
       "    <tr>\n",
       "      <th>user_id</th>\n",
       "      <th>age</th>\n",
       "      <th>tariff</th>\n",
       "      <th>city</th>\n",
       "      <th>month</th>\n",
       "      <th></th>\n",
       "    </tr>\n",
       "  </thead>\n",
       "  <tbody>\n",
       "    <tr>\n",
       "      <td rowspan=\"8\" valign=\"top\">1000</td>\n",
       "      <td rowspan=\"8\" valign=\"top\">52</td>\n",
       "      <td rowspan=\"8\" valign=\"top\">ultra</td>\n",
       "      <td rowspan=\"8\" valign=\"top\">Краснодар</td>\n",
       "      <td>5.0</td>\n",
       "      <td>2253.49</td>\n",
       "    </tr>\n",
       "    <tr>\n",
       "      <td>6.0</td>\n",
       "      <td>23233.77</td>\n",
       "    </tr>\n",
       "    <tr>\n",
       "      <td>7.0</td>\n",
       "      <td>14003.64</td>\n",
       "    </tr>\n",
       "    <tr>\n",
       "      <td>8.0</td>\n",
       "      <td>14055.93</td>\n",
       "    </tr>\n",
       "    <tr>\n",
       "      <td>9.0</td>\n",
       "      <td>14568.91</td>\n",
       "    </tr>\n",
       "    <tr>\n",
       "      <td>10.0</td>\n",
       "      <td>14702.49</td>\n",
       "    </tr>\n",
       "    <tr>\n",
       "      <td>11.0</td>\n",
       "      <td>14756.47</td>\n",
       "    </tr>\n",
       "    <tr>\n",
       "      <td>12.0</td>\n",
       "      <td>9817.61</td>\n",
       "    </tr>\n",
       "    <tr>\n",
       "      <td rowspan=\"2\" valign=\"top\">1001</td>\n",
       "      <td rowspan=\"2\" valign=\"top\">41</td>\n",
       "      <td rowspan=\"2\" valign=\"top\">smart</td>\n",
       "      <td rowspan=\"2\" valign=\"top\">Москва</td>\n",
       "      <td>11.0</td>\n",
       "      <td>18429.34</td>\n",
       "    </tr>\n",
       "    <tr>\n",
       "      <td>12.0</td>\n",
       "      <td>14036.66</td>\n",
       "    </tr>\n",
       "    <tr>\n",
       "      <td rowspan=\"5\" valign=\"top\">1002</td>\n",
       "      <td rowspan=\"5\" valign=\"top\">59</td>\n",
       "      <td rowspan=\"5\" valign=\"top\">smart</td>\n",
       "      <td rowspan=\"5\" valign=\"top\">Стерлитамак</td>\n",
       "      <td>6.0</td>\n",
       "      <td>10856.82</td>\n",
       "    </tr>\n",
       "    <tr>\n",
       "      <td>7.0</td>\n",
       "      <td>17580.10</td>\n",
       "    </tr>\n",
       "    <tr>\n",
       "      <td>8.0</td>\n",
       "      <td>20319.26</td>\n",
       "    </tr>\n",
       "    <tr>\n",
       "      <td>9.0</td>\n",
       "      <td>16691.08</td>\n",
       "    </tr>\n",
       "    <tr>\n",
       "      <td>10.0</td>\n",
       "      <td>13888.25</td>\n",
       "    </tr>\n",
       "  </tbody>\n",
       "</table>\n",
       "</div>"
      ],
      "text/plain": [
       "                                       mb_used\n",
       "user_id age tariff city        month          \n",
       "1000    52  ultra  Краснодар   5.0     2253.49\n",
       "                               6.0    23233.77\n",
       "                               7.0    14003.64\n",
       "                               8.0    14055.93\n",
       "                               9.0    14568.91\n",
       "                               10.0   14702.49\n",
       "                               11.0   14756.47\n",
       "                               12.0    9817.61\n",
       "1001    41  smart  Москва      11.0   18429.34\n",
       "                               12.0   14036.66\n",
       "1002    59  smart  Стерлитамак 6.0    10856.82\n",
       "                               7.0    17580.10\n",
       "                               8.0    20319.26\n",
       "                               9.0    16691.08\n",
       "                               10.0   13888.25"
      ]
     },
     "metadata": {},
     "output_type": "display_data"
    }
   ],
   "source": [
    "# Сгруппируем таблицу с количеством сообщений\n",
    "data_internet['session_date'] = pd.to_datetime(data_internet['session_date'], format = '%Y-%m-%d')\n",
    "data_internet['month'] = data_internet['session_date'].dt.month\n",
    "internet_jointed = data_internet.merge(data_users, on='user_id', how = 'outer') \n",
    "internet_grouped = pd.pivot_table(internet_jointed, index = ['user_id','age','tariff','city','month'], values ='mb_used', aggfunc = 'sum')\n",
    "internet_grouped.columns = ['mb_used']\n",
    "display(internet_grouped.head(15))"
   ]
  },
  {
   "cell_type": "markdown",
   "metadata": {},
   "source": [
    "Добавим столбец с использованными ГБ, округлим вверх за месяц. Добавим округленные данные обратно в столбец mb_used"
   ]
  },
  {
   "cell_type": "code",
   "execution_count": 19,
   "metadata": {},
   "outputs": [],
   "source": [
    "#internet_grouped['gb_used'] = round(internet_grouped['mb_used'] / 1024 + 0.5,0)  \n",
    "\n",
    "#Обновленное решение\n",
    "internet_grouped['gb_used'] = (internet_grouped['mb_used'] / 1024).apply(np.ceil)\n",
    "internet_grouped['mb_used'] = internet_grouped['gb_used'] * 1024 \n",
    "del internet_grouped['gb_used']"
   ]
  },
  {
   "cell_type": "code",
   "execution_count": 20,
   "metadata": {},
   "outputs": [],
   "source": [
    "# Сгруппируем таблицу с количеством сообщений\n",
    "data_messages['message_date'] = pd.to_datetime(data_messages['message_date'], format = '%Y-%m-%d')\n",
    "data_messages['month'] = data_messages['message_date'].dt.month\n",
    "messages_jointed = data_messages.merge(data_users, on='user_id', how = 'outer') \n",
    "messages_grouped = pd.pivot_table(messages_jointed, index = ['user_id','age','tariff','city','month'], values ='message_date', aggfunc = 'count')\n",
    "messages_grouped.columns = ['message_number']\n",
    "#display(messages_grouped.head(15))\n"
   ]
  },
  {
   "cell_type": "markdown",
   "metadata": {},
   "source": [
    "Затем объединим 3 таблицы в одну"
   ]
  },
  {
   "cell_type": "code",
   "execution_count": 21,
   "metadata": {
    "scrolled": true
   },
   "outputs": [
    {
     "data": {
      "text/html": [
       "<div>\n",
       "<style scoped>\n",
       "    .dataframe tbody tr th:only-of-type {\n",
       "        vertical-align: middle;\n",
       "    }\n",
       "\n",
       "    .dataframe tbody tr th {\n",
       "        vertical-align: top;\n",
       "    }\n",
       "\n",
       "    .dataframe thead th {\n",
       "        text-align: right;\n",
       "    }\n",
       "</style>\n",
       "<table border=\"1\" class=\"dataframe\">\n",
       "  <thead>\n",
       "    <tr style=\"text-align: right;\">\n",
       "      <th></th>\n",
       "      <th></th>\n",
       "      <th></th>\n",
       "      <th></th>\n",
       "      <th></th>\n",
       "      <th>duration</th>\n",
       "      <th>mb_used</th>\n",
       "      <th>message_number</th>\n",
       "    </tr>\n",
       "    <tr>\n",
       "      <th>user_id</th>\n",
       "      <th>age</th>\n",
       "      <th>tariff</th>\n",
       "      <th>city</th>\n",
       "      <th>month</th>\n",
       "      <th></th>\n",
       "      <th></th>\n",
       "      <th></th>\n",
       "    </tr>\n",
       "  </thead>\n",
       "  <tbody>\n",
       "    <tr>\n",
       "      <td rowspan=\"8\" valign=\"top\">1000</td>\n",
       "      <td rowspan=\"8\" valign=\"top\">52</td>\n",
       "      <td rowspan=\"8\" valign=\"top\">ultra</td>\n",
       "      <td rowspan=\"8\" valign=\"top\">Краснодар</td>\n",
       "      <td>5.0</td>\n",
       "      <td>159.0</td>\n",
       "      <td>3072.0</td>\n",
       "      <td>22.0</td>\n",
       "    </tr>\n",
       "    <tr>\n",
       "      <td>6.0</td>\n",
       "      <td>172.0</td>\n",
       "      <td>23552.0</td>\n",
       "      <td>60.0</td>\n",
       "    </tr>\n",
       "    <tr>\n",
       "      <td>7.0</td>\n",
       "      <td>340.0</td>\n",
       "      <td>14336.0</td>\n",
       "      <td>75.0</td>\n",
       "    </tr>\n",
       "    <tr>\n",
       "      <td>8.0</td>\n",
       "      <td>408.0</td>\n",
       "      <td>14336.0</td>\n",
       "      <td>81.0</td>\n",
       "    </tr>\n",
       "    <tr>\n",
       "      <td>9.0</td>\n",
       "      <td>466.0</td>\n",
       "      <td>15360.0</td>\n",
       "      <td>57.0</td>\n",
       "    </tr>\n",
       "    <tr>\n",
       "      <td>10.0</td>\n",
       "      <td>350.0</td>\n",
       "      <td>15360.0</td>\n",
       "      <td>73.0</td>\n",
       "    </tr>\n",
       "    <tr>\n",
       "      <td>11.0</td>\n",
       "      <td>338.0</td>\n",
       "      <td>15360.0</td>\n",
       "      <td>58.0</td>\n",
       "    </tr>\n",
       "    <tr>\n",
       "      <td>12.0</td>\n",
       "      <td>333.0</td>\n",
       "      <td>10240.0</td>\n",
       "      <td>70.0</td>\n",
       "    </tr>\n",
       "    <tr>\n",
       "      <td rowspan=\"2\" valign=\"top\">1001</td>\n",
       "      <td rowspan=\"2\" valign=\"top\">41</td>\n",
       "      <td rowspan=\"2\" valign=\"top\">smart</td>\n",
       "      <td rowspan=\"2\" valign=\"top\">Москва</td>\n",
       "      <td>11.0</td>\n",
       "      <td>430.0</td>\n",
       "      <td>18432.0</td>\n",
       "      <td>NaN</td>\n",
       "    </tr>\n",
       "    <tr>\n",
       "      <td>12.0</td>\n",
       "      <td>414.0</td>\n",
       "      <td>14336.0</td>\n",
       "      <td>NaN</td>\n",
       "    </tr>\n",
       "  </tbody>\n",
       "</table>\n",
       "</div>"
      ],
      "text/plain": [
       "                                    duration  mb_used  message_number\n",
       "user_id age tariff city      month                                   \n",
       "1000    52  ultra  Краснодар 5.0       159.0   3072.0            22.0\n",
       "                             6.0       172.0  23552.0            60.0\n",
       "                             7.0       340.0  14336.0            75.0\n",
       "                             8.0       408.0  14336.0            81.0\n",
       "                             9.0       466.0  15360.0            57.0\n",
       "                             10.0      350.0  15360.0            73.0\n",
       "                             11.0      338.0  15360.0            58.0\n",
       "                             12.0      333.0  10240.0            70.0\n",
       "1001    41  smart  Москва    11.0      430.0  18432.0             NaN\n",
       "                             12.0      414.0  14336.0             NaN"
      ]
     },
     "metadata": {},
     "output_type": "display_data"
    }
   ],
   "source": [
    "usage_data = calls_grouped\n",
    "usage_data = usage_data.join(internet_grouped, how = 'outer')\n",
    "usage_data = usage_data.join(messages_grouped, how = 'outer')\n",
    "display(usage_data.head(10))"
   ]
  },
  {
   "cell_type": "markdown",
   "metadata": {},
   "source": [
    "* Заполним пропуски в количестве сообщений нулями\n",
    "* Пропуски в количестве сообщений возникли после объединения таблиц из-за того, что абоненты не отправляли сообщения в часть месяцев, когда пользовались другими услугами (связь, интернет)"
   ]
  },
  {
   "cell_type": "code",
   "execution_count": 22,
   "metadata": {},
   "outputs": [
    {
     "data": {
      "text/html": [
       "<div>\n",
       "<style scoped>\n",
       "    .dataframe tbody tr th:only-of-type {\n",
       "        vertical-align: middle;\n",
       "    }\n",
       "\n",
       "    .dataframe tbody tr th {\n",
       "        vertical-align: top;\n",
       "    }\n",
       "\n",
       "    .dataframe thead th {\n",
       "        text-align: right;\n",
       "    }\n",
       "</style>\n",
       "<table border=\"1\" class=\"dataframe\">\n",
       "  <thead>\n",
       "    <tr style=\"text-align: right;\">\n",
       "      <th></th>\n",
       "      <th></th>\n",
       "      <th></th>\n",
       "      <th></th>\n",
       "      <th></th>\n",
       "      <th>duration</th>\n",
       "      <th>mb_used</th>\n",
       "      <th>message_number</th>\n",
       "    </tr>\n",
       "    <tr>\n",
       "      <th>user_id</th>\n",
       "      <th>age</th>\n",
       "      <th>tariff</th>\n",
       "      <th>city</th>\n",
       "      <th>month</th>\n",
       "      <th></th>\n",
       "      <th></th>\n",
       "      <th></th>\n",
       "    </tr>\n",
       "  </thead>\n",
       "  <tbody>\n",
       "    <tr>\n",
       "      <td rowspan=\"5\" valign=\"top\">1000</td>\n",
       "      <td rowspan=\"5\" valign=\"top\">52</td>\n",
       "      <td rowspan=\"5\" valign=\"top\">ultra</td>\n",
       "      <td rowspan=\"5\" valign=\"top\">Краснодар</td>\n",
       "      <td>5.0</td>\n",
       "      <td>159.0</td>\n",
       "      <td>3072.0</td>\n",
       "      <td>22.0</td>\n",
       "    </tr>\n",
       "    <tr>\n",
       "      <td>6.0</td>\n",
       "      <td>172.0</td>\n",
       "      <td>23552.0</td>\n",
       "      <td>60.0</td>\n",
       "    </tr>\n",
       "    <tr>\n",
       "      <td>7.0</td>\n",
       "      <td>340.0</td>\n",
       "      <td>14336.0</td>\n",
       "      <td>75.0</td>\n",
       "    </tr>\n",
       "    <tr>\n",
       "      <td>8.0</td>\n",
       "      <td>408.0</td>\n",
       "      <td>14336.0</td>\n",
       "      <td>81.0</td>\n",
       "    </tr>\n",
       "    <tr>\n",
       "      <td>9.0</td>\n",
       "      <td>466.0</td>\n",
       "      <td>15360.0</td>\n",
       "      <td>57.0</td>\n",
       "    </tr>\n",
       "    <tr>\n",
       "      <td>...</td>\n",
       "      <td>...</td>\n",
       "      <td>...</td>\n",
       "      <td>...</td>\n",
       "      <td>...</td>\n",
       "      <td>...</td>\n",
       "      <td>...</td>\n",
       "      <td>...</td>\n",
       "    </tr>\n",
       "    <tr>\n",
       "      <td>1498</td>\n",
       "      <td>68</td>\n",
       "      <td>smart</td>\n",
       "      <td>Владикавказ</td>\n",
       "      <td>10.0</td>\n",
       "      <td>247.0</td>\n",
       "      <td>21504.0</td>\n",
       "      <td>42.0</td>\n",
       "    </tr>\n",
       "    <tr>\n",
       "      <td rowspan=\"4\" valign=\"top\">1499</td>\n",
       "      <td rowspan=\"4\" valign=\"top\">35</td>\n",
       "      <td rowspan=\"4\" valign=\"top\">smart</td>\n",
       "      <td rowspan=\"4\" valign=\"top\">Пермь</td>\n",
       "      <td>9.0</td>\n",
       "      <td>70.0</td>\n",
       "      <td>2048.0</td>\n",
       "      <td>11.0</td>\n",
       "    </tr>\n",
       "    <tr>\n",
       "      <td>10.0</td>\n",
       "      <td>449.0</td>\n",
       "      <td>18432.0</td>\n",
       "      <td>48.0</td>\n",
       "    </tr>\n",
       "    <tr>\n",
       "      <td>11.0</td>\n",
       "      <td>612.0</td>\n",
       "      <td>18432.0</td>\n",
       "      <td>59.0</td>\n",
       "    </tr>\n",
       "    <tr>\n",
       "      <td>12.0</td>\n",
       "      <td>492.0</td>\n",
       "      <td>13312.0</td>\n",
       "      <td>66.0</td>\n",
       "    </tr>\n",
       "  </tbody>\n",
       "</table>\n",
       "<p>3214 rows × 3 columns</p>\n",
       "</div>"
      ],
      "text/plain": [
       "                                      duration  mb_used  message_number\n",
       "user_id age tariff city        month                                   \n",
       "1000    52  ultra  Краснодар   5.0       159.0   3072.0            22.0\n",
       "                               6.0       172.0  23552.0            60.0\n",
       "                               7.0       340.0  14336.0            75.0\n",
       "                               8.0       408.0  14336.0            81.0\n",
       "                               9.0       466.0  15360.0            57.0\n",
       "...                                        ...      ...             ...\n",
       "1498    68  smart  Владикавказ 10.0      247.0  21504.0            42.0\n",
       "1499    35  smart  Пермь       9.0        70.0   2048.0            11.0\n",
       "                               10.0      449.0  18432.0            48.0\n",
       "                               11.0      612.0  18432.0            59.0\n",
       "                               12.0      492.0  13312.0            66.0\n",
       "\n",
       "[3214 rows x 3 columns]"
      ]
     },
     "execution_count": 22,
     "metadata": {},
     "output_type": "execute_result"
    }
   ],
   "source": [
    "usage_data = usage_data.fillna(0)\n",
    "usage_data"
   ]
  },
  {
   "cell_type": "markdown",
   "metadata": {},
   "source": [
    "### Вывод"
   ]
  },
  {
   "cell_type": "markdown",
   "metadata": {},
   "source": [
    "Объединил 4 таблицы в одну и сделал сводную таблицу для удобства анализа, сгруппированную по пользователям и месяцу. В качестве значений - тариф, возраст, город, длительность звонков, использование МБ интернета, количество сообщений"
   ]
  },
  {
   "cell_type": "markdown",
   "metadata": {},
   "source": [
    "### 3. Расчет значений <a class=\"anchor\" id=\"3-bullet\"></a>"
   ]
  },
  {
   "cell_type": "markdown",
   "metadata": {},
   "source": [
    "Добавим в объединенную таблицу разницу в длительности звонков, МБ интернета и количестве сообщений пользователей относительно тарифов."
   ]
  },
  {
   "cell_type": "code",
   "execution_count": 23,
   "metadata": {},
   "outputs": [
    {
     "data": {
      "text/html": [
       "<div>\n",
       "<style scoped>\n",
       "    .dataframe tbody tr th:only-of-type {\n",
       "        vertical-align: middle;\n",
       "    }\n",
       "\n",
       "    .dataframe tbody tr th {\n",
       "        vertical-align: top;\n",
       "    }\n",
       "\n",
       "    .dataframe thead th {\n",
       "        text-align: right;\n",
       "    }\n",
       "</style>\n",
       "<table border=\"1\" class=\"dataframe\">\n",
       "  <thead>\n",
       "    <tr style=\"text-align: right;\">\n",
       "      <th></th>\n",
       "      <th></th>\n",
       "      <th></th>\n",
       "      <th></th>\n",
       "      <th></th>\n",
       "      <th>duration</th>\n",
       "      <th>mb_used</th>\n",
       "      <th>message_number</th>\n",
       "    </tr>\n",
       "    <tr>\n",
       "      <th>user_id</th>\n",
       "      <th>age</th>\n",
       "      <th>tariff</th>\n",
       "      <th>city</th>\n",
       "      <th>month</th>\n",
       "      <th></th>\n",
       "      <th></th>\n",
       "      <th></th>\n",
       "    </tr>\n",
       "  </thead>\n",
       "  <tbody>\n",
       "    <tr>\n",
       "      <td rowspan=\"5\" valign=\"top\">1000</td>\n",
       "      <td rowspan=\"5\" valign=\"top\">52</td>\n",
       "      <td rowspan=\"5\" valign=\"top\">ultra</td>\n",
       "      <td rowspan=\"5\" valign=\"top\">Краснодар</td>\n",
       "      <td>5.0</td>\n",
       "      <td>159.0</td>\n",
       "      <td>3072.0</td>\n",
       "      <td>22.0</td>\n",
       "    </tr>\n",
       "    <tr>\n",
       "      <td>6.0</td>\n",
       "      <td>172.0</td>\n",
       "      <td>23552.0</td>\n",
       "      <td>60.0</td>\n",
       "    </tr>\n",
       "    <tr>\n",
       "      <td>7.0</td>\n",
       "      <td>340.0</td>\n",
       "      <td>14336.0</td>\n",
       "      <td>75.0</td>\n",
       "    </tr>\n",
       "    <tr>\n",
       "      <td>8.0</td>\n",
       "      <td>408.0</td>\n",
       "      <td>14336.0</td>\n",
       "      <td>81.0</td>\n",
       "    </tr>\n",
       "    <tr>\n",
       "      <td>9.0</td>\n",
       "      <td>466.0</td>\n",
       "      <td>15360.0</td>\n",
       "      <td>57.0</td>\n",
       "    </tr>\n",
       "    <tr>\n",
       "      <td>...</td>\n",
       "      <td>...</td>\n",
       "      <td>...</td>\n",
       "      <td>...</td>\n",
       "      <td>...</td>\n",
       "      <td>...</td>\n",
       "      <td>...</td>\n",
       "      <td>...</td>\n",
       "    </tr>\n",
       "    <tr>\n",
       "      <td>1498</td>\n",
       "      <td>68</td>\n",
       "      <td>smart</td>\n",
       "      <td>Владикавказ</td>\n",
       "      <td>10.0</td>\n",
       "      <td>247.0</td>\n",
       "      <td>21504.0</td>\n",
       "      <td>42.0</td>\n",
       "    </tr>\n",
       "    <tr>\n",
       "      <td rowspan=\"4\" valign=\"top\">1499</td>\n",
       "      <td rowspan=\"4\" valign=\"top\">35</td>\n",
       "      <td rowspan=\"4\" valign=\"top\">smart</td>\n",
       "      <td rowspan=\"4\" valign=\"top\">Пермь</td>\n",
       "      <td>9.0</td>\n",
       "      <td>70.0</td>\n",
       "      <td>2048.0</td>\n",
       "      <td>11.0</td>\n",
       "    </tr>\n",
       "    <tr>\n",
       "      <td>10.0</td>\n",
       "      <td>449.0</td>\n",
       "      <td>18432.0</td>\n",
       "      <td>48.0</td>\n",
       "    </tr>\n",
       "    <tr>\n",
       "      <td>11.0</td>\n",
       "      <td>612.0</td>\n",
       "      <td>18432.0</td>\n",
       "      <td>59.0</td>\n",
       "    </tr>\n",
       "    <tr>\n",
       "      <td>12.0</td>\n",
       "      <td>492.0</td>\n",
       "      <td>13312.0</td>\n",
       "      <td>66.0</td>\n",
       "    </tr>\n",
       "  </tbody>\n",
       "</table>\n",
       "<p>3214 rows × 3 columns</p>\n",
       "</div>"
      ],
      "text/plain": [
       "                                      duration  mb_used  message_number\n",
       "user_id age tariff city        month                                   \n",
       "1000    52  ultra  Краснодар   5.0       159.0   3072.0            22.0\n",
       "                               6.0       172.0  23552.0            60.0\n",
       "                               7.0       340.0  14336.0            75.0\n",
       "                               8.0       408.0  14336.0            81.0\n",
       "                               9.0       466.0  15360.0            57.0\n",
       "...                                        ...      ...             ...\n",
       "1498    68  smart  Владикавказ 10.0      247.0  21504.0            42.0\n",
       "1499    35  smart  Пермь       9.0        70.0   2048.0            11.0\n",
       "                               10.0      449.0  18432.0            48.0\n",
       "                               11.0      612.0  18432.0            59.0\n",
       "                               12.0      492.0  13312.0            66.0\n",
       "\n",
       "[3214 rows x 3 columns]"
      ]
     },
     "execution_count": 23,
     "metadata": {},
     "output_type": "execute_result"
    }
   ],
   "source": [
    "usage_data\n",
    "#usage_data.loc[usage_data.query('tariff == \"smart\"').index, 'md_used']"
   ]
  },
  {
   "cell_type": "code",
   "execution_count": 24,
   "metadata": {},
   "outputs": [
    {
     "data": {
      "text/html": [
       "<div>\n",
       "<style scoped>\n",
       "    .dataframe tbody tr th:only-of-type {\n",
       "        vertical-align: middle;\n",
       "    }\n",
       "\n",
       "    .dataframe tbody tr th {\n",
       "        vertical-align: top;\n",
       "    }\n",
       "\n",
       "    .dataframe thead th {\n",
       "        text-align: right;\n",
       "    }\n",
       "</style>\n",
       "<table border=\"1\" class=\"dataframe\">\n",
       "  <thead>\n",
       "    <tr style=\"text-align: right;\">\n",
       "      <th></th>\n",
       "      <th></th>\n",
       "      <th></th>\n",
       "      <th></th>\n",
       "      <th></th>\n",
       "      <th>duration</th>\n",
       "      <th>mb_used</th>\n",
       "      <th>message_number</th>\n",
       "      <th>calls_dif</th>\n",
       "      <th>internet_dif</th>\n",
       "      <th>message_dif</th>\n",
       "    </tr>\n",
       "    <tr>\n",
       "      <th>user_id</th>\n",
       "      <th>age</th>\n",
       "      <th>tariff</th>\n",
       "      <th>city</th>\n",
       "      <th>month</th>\n",
       "      <th></th>\n",
       "      <th></th>\n",
       "      <th></th>\n",
       "      <th></th>\n",
       "      <th></th>\n",
       "      <th></th>\n",
       "    </tr>\n",
       "  </thead>\n",
       "  <tbody>\n",
       "    <tr>\n",
       "      <td rowspan=\"5\" valign=\"top\">1000</td>\n",
       "      <td rowspan=\"5\" valign=\"top\">52</td>\n",
       "      <td rowspan=\"5\" valign=\"top\">ultra</td>\n",
       "      <td rowspan=\"5\" valign=\"top\">Краснодар</td>\n",
       "      <td>5.0</td>\n",
       "      <td>159.0</td>\n",
       "      <td>3072.0</td>\n",
       "      <td>22.0</td>\n",
       "      <td>-2841.0</td>\n",
       "      <td>-27648.0</td>\n",
       "      <td>-978.0</td>\n",
       "    </tr>\n",
       "    <tr>\n",
       "      <td>6.0</td>\n",
       "      <td>172.0</td>\n",
       "      <td>23552.0</td>\n",
       "      <td>60.0</td>\n",
       "      <td>-2828.0</td>\n",
       "      <td>-7168.0</td>\n",
       "      <td>-940.0</td>\n",
       "    </tr>\n",
       "    <tr>\n",
       "      <td>7.0</td>\n",
       "      <td>340.0</td>\n",
       "      <td>14336.0</td>\n",
       "      <td>75.0</td>\n",
       "      <td>-2660.0</td>\n",
       "      <td>-16384.0</td>\n",
       "      <td>-925.0</td>\n",
       "    </tr>\n",
       "    <tr>\n",
       "      <td>8.0</td>\n",
       "      <td>408.0</td>\n",
       "      <td>14336.0</td>\n",
       "      <td>81.0</td>\n",
       "      <td>-2592.0</td>\n",
       "      <td>-16384.0</td>\n",
       "      <td>-919.0</td>\n",
       "    </tr>\n",
       "    <tr>\n",
       "      <td>9.0</td>\n",
       "      <td>466.0</td>\n",
       "      <td>15360.0</td>\n",
       "      <td>57.0</td>\n",
       "      <td>-2534.0</td>\n",
       "      <td>-15360.0</td>\n",
       "      <td>-943.0</td>\n",
       "    </tr>\n",
       "    <tr>\n",
       "      <td>...</td>\n",
       "      <td>...</td>\n",
       "      <td>...</td>\n",
       "      <td>...</td>\n",
       "      <td>...</td>\n",
       "      <td>...</td>\n",
       "      <td>...</td>\n",
       "      <td>...</td>\n",
       "      <td>...</td>\n",
       "      <td>...</td>\n",
       "      <td>...</td>\n",
       "    </tr>\n",
       "    <tr>\n",
       "      <td>1498</td>\n",
       "      <td>68</td>\n",
       "      <td>smart</td>\n",
       "      <td>Владикавказ</td>\n",
       "      <td>10.0</td>\n",
       "      <td>247.0</td>\n",
       "      <td>21504.0</td>\n",
       "      <td>42.0</td>\n",
       "      <td>-253.0</td>\n",
       "      <td>6144.0</td>\n",
       "      <td>-8.0</td>\n",
       "    </tr>\n",
       "    <tr>\n",
       "      <td rowspan=\"4\" valign=\"top\">1499</td>\n",
       "      <td rowspan=\"4\" valign=\"top\">35</td>\n",
       "      <td rowspan=\"4\" valign=\"top\">smart</td>\n",
       "      <td rowspan=\"4\" valign=\"top\">Пермь</td>\n",
       "      <td>9.0</td>\n",
       "      <td>70.0</td>\n",
       "      <td>2048.0</td>\n",
       "      <td>11.0</td>\n",
       "      <td>-430.0</td>\n",
       "      <td>-13312.0</td>\n",
       "      <td>-39.0</td>\n",
       "    </tr>\n",
       "    <tr>\n",
       "      <td>10.0</td>\n",
       "      <td>449.0</td>\n",
       "      <td>18432.0</td>\n",
       "      <td>48.0</td>\n",
       "      <td>-51.0</td>\n",
       "      <td>3072.0</td>\n",
       "      <td>-2.0</td>\n",
       "    </tr>\n",
       "    <tr>\n",
       "      <td>11.0</td>\n",
       "      <td>612.0</td>\n",
       "      <td>18432.0</td>\n",
       "      <td>59.0</td>\n",
       "      <td>112.0</td>\n",
       "      <td>3072.0</td>\n",
       "      <td>9.0</td>\n",
       "    </tr>\n",
       "    <tr>\n",
       "      <td>12.0</td>\n",
       "      <td>492.0</td>\n",
       "      <td>13312.0</td>\n",
       "      <td>66.0</td>\n",
       "      <td>-8.0</td>\n",
       "      <td>-2048.0</td>\n",
       "      <td>16.0</td>\n",
       "    </tr>\n",
       "  </tbody>\n",
       "</table>\n",
       "<p>3214 rows × 6 columns</p>\n",
       "</div>"
      ],
      "text/plain": [
       "                                      duration  mb_used  message_number  \\\n",
       "user_id age tariff city        month                                      \n",
       "1000    52  ultra  Краснодар   5.0       159.0   3072.0            22.0   \n",
       "                               6.0       172.0  23552.0            60.0   \n",
       "                               7.0       340.0  14336.0            75.0   \n",
       "                               8.0       408.0  14336.0            81.0   \n",
       "                               9.0       466.0  15360.0            57.0   \n",
       "...                                        ...      ...             ...   \n",
       "1498    68  smart  Владикавказ 10.0      247.0  21504.0            42.0   \n",
       "1499    35  smart  Пермь       9.0        70.0   2048.0            11.0   \n",
       "                               10.0      449.0  18432.0            48.0   \n",
       "                               11.0      612.0  18432.0            59.0   \n",
       "                               12.0      492.0  13312.0            66.0   \n",
       "\n",
       "                                      calls_dif  internet_dif  message_dif  \n",
       "user_id age tariff city        month                                        \n",
       "1000    52  ultra  Краснодар   5.0      -2841.0      -27648.0       -978.0  \n",
       "                               6.0      -2828.0       -7168.0       -940.0  \n",
       "                               7.0      -2660.0      -16384.0       -925.0  \n",
       "                               8.0      -2592.0      -16384.0       -919.0  \n",
       "                               9.0      -2534.0      -15360.0       -943.0  \n",
       "...                                         ...           ...          ...  \n",
       "1498    68  smart  Владикавказ 10.0      -253.0        6144.0         -8.0  \n",
       "1499    35  smart  Пермь       9.0       -430.0      -13312.0        -39.0  \n",
       "                               10.0       -51.0        3072.0         -2.0  \n",
       "                               11.0       112.0        3072.0          9.0  \n",
       "                               12.0        -8.0       -2048.0         16.0  \n",
       "\n",
       "[3214 rows x 6 columns]"
      ]
     },
     "metadata": {},
     "output_type": "display_data"
    }
   ],
   "source": [
    "# Функция для заполнения разницы параметра \n",
    "def dif (parametr, name_col, tarif):\n",
    "    parametr_smart = float(data_tariffs.query('tariff_name == \"smart\"')[tarif])\n",
    "    parametr_ultra = float(data_tariffs.query('tariff_name == \"ultra\"')[tarif])   \n",
    "    usage_data.loc[usage_data.query('tariff == \"smart\"').index, name_col] =\\\n",
    "    usage_data.loc[usage_data.query('tariff == \"smart\"').index, parametr] - parametr_smart\n",
    "    usage_data.loc[usage_data.query('tariff == \"ultra\"').index, name_col] =\\\n",
    "    usage_data.loc[usage_data.query('tariff == \"ultra\"').index, parametr] - parametr_ultra\n",
    "\n",
    "# Добавим разницу по длительности звонков\n",
    "dif('duration','calls_dif', 'minutes_included')\n",
    "\n",
    "# Добавим разницу по интернет трафику\n",
    "dif('mb_used','internet_dif','mb_per_month_included')\n",
    "\n",
    "# Добавим разницу по количеству сообщений\n",
    "dif('message_number','message_dif','messages_included')\n",
    "\n",
    "display(usage_data)"
   ]
  },
  {
   "cell_type": "markdown",
   "metadata": {},
   "source": [
    "Расчитаем выручку в новом столбце revenue"
   ]
  },
  {
   "cell_type": "code",
   "execution_count": 25,
   "metadata": {},
   "outputs": [
    {
     "data": {
      "text/html": [
       "<div>\n",
       "<style scoped>\n",
       "    .dataframe tbody tr th:only-of-type {\n",
       "        vertical-align: middle;\n",
       "    }\n",
       "\n",
       "    .dataframe tbody tr th {\n",
       "        vertical-align: top;\n",
       "    }\n",
       "\n",
       "    .dataframe thead th {\n",
       "        text-align: right;\n",
       "    }\n",
       "</style>\n",
       "<table border=\"1\" class=\"dataframe\">\n",
       "  <thead>\n",
       "    <tr style=\"text-align: right;\">\n",
       "      <th></th>\n",
       "      <th></th>\n",
       "      <th></th>\n",
       "      <th></th>\n",
       "      <th></th>\n",
       "      <th>duration</th>\n",
       "      <th>mb_used</th>\n",
       "      <th>message_number</th>\n",
       "      <th>calls_dif</th>\n",
       "      <th>internet_dif</th>\n",
       "      <th>message_dif</th>\n",
       "      <th>revenue</th>\n",
       "    </tr>\n",
       "    <tr>\n",
       "      <th>user_id</th>\n",
       "      <th>age</th>\n",
       "      <th>tariff</th>\n",
       "      <th>city</th>\n",
       "      <th>month</th>\n",
       "      <th></th>\n",
       "      <th></th>\n",
       "      <th></th>\n",
       "      <th></th>\n",
       "      <th></th>\n",
       "      <th></th>\n",
       "      <th></th>\n",
       "    </tr>\n",
       "  </thead>\n",
       "  <tbody>\n",
       "    <tr>\n",
       "      <td rowspan=\"5\" valign=\"top\">1000</td>\n",
       "      <td rowspan=\"5\" valign=\"top\">52</td>\n",
       "      <td rowspan=\"5\" valign=\"top\">ultra</td>\n",
       "      <td rowspan=\"5\" valign=\"top\">Краснодар</td>\n",
       "      <td>5.0</td>\n",
       "      <td>159.0</td>\n",
       "      <td>3072.0</td>\n",
       "      <td>22.0</td>\n",
       "      <td>0.0</td>\n",
       "      <td>0.0</td>\n",
       "      <td>0.0</td>\n",
       "      <td>1950.0</td>\n",
       "    </tr>\n",
       "    <tr>\n",
       "      <td>6.0</td>\n",
       "      <td>172.0</td>\n",
       "      <td>23552.0</td>\n",
       "      <td>60.0</td>\n",
       "      <td>0.0</td>\n",
       "      <td>0.0</td>\n",
       "      <td>0.0</td>\n",
       "      <td>1950.0</td>\n",
       "    </tr>\n",
       "    <tr>\n",
       "      <td>7.0</td>\n",
       "      <td>340.0</td>\n",
       "      <td>14336.0</td>\n",
       "      <td>75.0</td>\n",
       "      <td>0.0</td>\n",
       "      <td>0.0</td>\n",
       "      <td>0.0</td>\n",
       "      <td>1950.0</td>\n",
       "    </tr>\n",
       "    <tr>\n",
       "      <td>8.0</td>\n",
       "      <td>408.0</td>\n",
       "      <td>14336.0</td>\n",
       "      <td>81.0</td>\n",
       "      <td>0.0</td>\n",
       "      <td>0.0</td>\n",
       "      <td>0.0</td>\n",
       "      <td>1950.0</td>\n",
       "    </tr>\n",
       "    <tr>\n",
       "      <td>9.0</td>\n",
       "      <td>466.0</td>\n",
       "      <td>15360.0</td>\n",
       "      <td>57.0</td>\n",
       "      <td>0.0</td>\n",
       "      <td>0.0</td>\n",
       "      <td>0.0</td>\n",
       "      <td>1950.0</td>\n",
       "    </tr>\n",
       "    <tr>\n",
       "      <td>...</td>\n",
       "      <td>...</td>\n",
       "      <td>...</td>\n",
       "      <td>...</td>\n",
       "      <td>...</td>\n",
       "      <td>...</td>\n",
       "      <td>...</td>\n",
       "      <td>...</td>\n",
       "      <td>...</td>\n",
       "      <td>...</td>\n",
       "      <td>...</td>\n",
       "      <td>...</td>\n",
       "    </tr>\n",
       "    <tr>\n",
       "      <td>1498</td>\n",
       "      <td>68</td>\n",
       "      <td>smart</td>\n",
       "      <td>Владикавказ</td>\n",
       "      <td>10.0</td>\n",
       "      <td>247.0</td>\n",
       "      <td>21504.0</td>\n",
       "      <td>42.0</td>\n",
       "      <td>0.0</td>\n",
       "      <td>6144.0</td>\n",
       "      <td>0.0</td>\n",
       "      <td>1750.0</td>\n",
       "    </tr>\n",
       "    <tr>\n",
       "      <td rowspan=\"4\" valign=\"top\">1499</td>\n",
       "      <td rowspan=\"4\" valign=\"top\">35</td>\n",
       "      <td rowspan=\"4\" valign=\"top\">smart</td>\n",
       "      <td rowspan=\"4\" valign=\"top\">Пермь</td>\n",
       "      <td>9.0</td>\n",
       "      <td>70.0</td>\n",
       "      <td>2048.0</td>\n",
       "      <td>11.0</td>\n",
       "      <td>0.0</td>\n",
       "      <td>0.0</td>\n",
       "      <td>0.0</td>\n",
       "      <td>550.0</td>\n",
       "    </tr>\n",
       "    <tr>\n",
       "      <td>10.0</td>\n",
       "      <td>449.0</td>\n",
       "      <td>18432.0</td>\n",
       "      <td>48.0</td>\n",
       "      <td>0.0</td>\n",
       "      <td>3072.0</td>\n",
       "      <td>0.0</td>\n",
       "      <td>1350.0</td>\n",
       "    </tr>\n",
       "    <tr>\n",
       "      <td>11.0</td>\n",
       "      <td>612.0</td>\n",
       "      <td>18432.0</td>\n",
       "      <td>59.0</td>\n",
       "      <td>112.0</td>\n",
       "      <td>3072.0</td>\n",
       "      <td>9.0</td>\n",
       "      <td>1713.0</td>\n",
       "    </tr>\n",
       "    <tr>\n",
       "      <td>12.0</td>\n",
       "      <td>492.0</td>\n",
       "      <td>13312.0</td>\n",
       "      <td>66.0</td>\n",
       "      <td>0.0</td>\n",
       "      <td>0.0</td>\n",
       "      <td>16.0</td>\n",
       "      <td>598.0</td>\n",
       "    </tr>\n",
       "  </tbody>\n",
       "</table>\n",
       "<p>3214 rows × 7 columns</p>\n",
       "</div>"
      ],
      "text/plain": [
       "                                      duration  mb_used  message_number  \\\n",
       "user_id age tariff city        month                                      \n",
       "1000    52  ultra  Краснодар   5.0       159.0   3072.0            22.0   \n",
       "                               6.0       172.0  23552.0            60.0   \n",
       "                               7.0       340.0  14336.0            75.0   \n",
       "                               8.0       408.0  14336.0            81.0   \n",
       "                               9.0       466.0  15360.0            57.0   \n",
       "...                                        ...      ...             ...   \n",
       "1498    68  smart  Владикавказ 10.0      247.0  21504.0            42.0   \n",
       "1499    35  smart  Пермь       9.0        70.0   2048.0            11.0   \n",
       "                               10.0      449.0  18432.0            48.0   \n",
       "                               11.0      612.0  18432.0            59.0   \n",
       "                               12.0      492.0  13312.0            66.0   \n",
       "\n",
       "                                      calls_dif  internet_dif  message_dif  \\\n",
       "user_id age tariff city        month                                         \n",
       "1000    52  ultra  Краснодар   5.0          0.0           0.0          0.0   \n",
       "                               6.0          0.0           0.0          0.0   \n",
       "                               7.0          0.0           0.0          0.0   \n",
       "                               8.0          0.0           0.0          0.0   \n",
       "                               9.0          0.0           0.0          0.0   \n",
       "...                                         ...           ...          ...   \n",
       "1498    68  smart  Владикавказ 10.0         0.0        6144.0          0.0   \n",
       "1499    35  smart  Пермь       9.0          0.0           0.0          0.0   \n",
       "                               10.0         0.0        3072.0          0.0   \n",
       "                               11.0       112.0        3072.0          9.0   \n",
       "                               12.0         0.0           0.0         16.0   \n",
       "\n",
       "                                      revenue  \n",
       "user_id age tariff city        month           \n",
       "1000    52  ultra  Краснодар   5.0     1950.0  \n",
       "                               6.0     1950.0  \n",
       "                               7.0     1950.0  \n",
       "                               8.0     1950.0  \n",
       "                               9.0     1950.0  \n",
       "...                                       ...  \n",
       "1498    68  smart  Владикавказ 10.0    1750.0  \n",
       "1499    35  smart  Пермь       9.0      550.0  \n",
       "                               10.0    1350.0  \n",
       "                               11.0    1713.0  \n",
       "                               12.0     598.0  \n",
       "\n",
       "[3214 rows x 7 columns]"
      ]
     },
     "metadata": {},
     "output_type": "display_data"
    }
   ],
   "source": [
    "# Оставим в столбцах с разницей только положительную\n",
    "usage_data.loc[usage_data.query('internet_dif < 0').index,'internet_dif'] = 0\n",
    "usage_data.loc[usage_data.query('message_dif < 0').index,'message_dif'] = 0\n",
    "usage_data.loc[usage_data.query('calls_dif < 0').index,'calls_dif'] = 0                               \n",
    "\n",
    "# Функция для расчета выручки тарифа \n",
    "def tarif_revenue (tarif):\n",
    "    fee = float(data_tariffs.query('tariff_name == @tarif')['rub_monthly_fee'])\n",
    "    internet_fee_gb = float(data_tariffs.query('tariff_name == @tarif')['rub_per_gb']) \n",
    "    message_fee = float(data_tariffs.query('tariff_name == @tarif')['rub_per_message']) \n",
    "    call_fee = float(data_tariffs.query('tariff_name == @tarif')['rub_per_minute'])  \n",
    "    internet_dif_gb = round(usage_data.loc[usage_data.query('tariff == @tarif').index, 'internet_dif']/1024 + 0.5,0)\n",
    "    message_dif = usage_data.loc[usage_data.query('tariff == @tarif').index, 'message_dif']\n",
    "    call_dif = usage_data.loc[usage_data.query('tariff == @tarif').index, 'calls_dif'] \n",
    "    usage_data.loc[usage_data.query('tariff == @tarif').index, 'revenue'] =\\\n",
    "    round(fee + internet_dif_gb * internet_fee_gb  + call_fee * call_dif + message_fee * message_dif,0)\n",
    "\n",
    "tarif_revenue ('smart')\n",
    "tarif_revenue ('ultra')\n",
    "display(usage_data)"
   ]
  },
  {
   "cell_type": "markdown",
   "metadata": {},
   "source": [
    "### Вывод"
   ]
  },
  {
   "cell_type": "markdown",
   "metadata": {},
   "source": [
    "* Округлил длительность звонков в большую сторону согласно тарифу\n",
    "* Расчитал превышение минут, сообщений, интернета для каждого пользователя помесячно\n",
    "* Расчтал помесячную выручку с каждого пользователя"
   ]
  },
  {
   "cell_type": "markdown",
   "metadata": {},
   "source": [
    "### 4. Визуализация. <a class=\"anchor\" id=\"4-bullet\"></a>"
   ]
  },
  {
   "cell_type": "markdown",
   "metadata": {},
   "source": [
    "Опишите поведение клиентов оператора, исходя из выборки. Сколько минут разговора, сколько сообщений и какой объём интернет-трафика требуется пользователям каждого тарифа в месяц? Посчитайте среднее количество, дисперсию и стандартное отклонение. Постройте гистограммы. Опишите распределения."
   ]
  },
  {
   "cell_type": "markdown",
   "metadata": {},
   "source": [
    "Напишем функцию для построения графика распределения</font>"
   ]
  },
  {
   "cell_type": "code",
   "execution_count": 26,
   "metadata": {},
   "outputs": [],
   "source": [
    "def distribution(parametr, name):\n",
    "    print('Среднее - ', name ,round(usage_data[parametr].mean(),0))\n",
    "    print('Медианна - ',name,round(usage_data[parametr].median(),0))\n",
    "    print('Среднее отклонение - ', name, round(np.std(usage_data[parametr]),0))\n",
    "    print('Дисперсия - ', name, round(np.var(usage_data[parametr], ddof=1),0))\n",
    "    print('Распределение -', name)\n",
    "    sns.distplot(usage_data[parametr])"
   ]
  },
  {
   "cell_type": "markdown",
   "metadata": {},
   "source": [
    "Посчитаем статистику для длительности звонков"
   ]
  },
  {
   "cell_type": "code",
   "execution_count": 27,
   "metadata": {},
   "outputs": [
    {
     "name": "stdout",
     "output_type": "stream",
     "text": [
      "Среднее -  длительность звонка 451.0\n",
      "Медианна -  длительность звонка 443.0\n",
      "Среднее отклонение -  длительность звонка 242.0\n",
      "Дисперсия -  длительность звонка 58520.0\n",
      "Распределение - длительность звонка\n"
     ]
    },
    {
     "data": {
      "image/png": "[encoded data removed]",
      "text/plain": [
       "<Figure size 432x288 with 1 Axes>"
      ]
     },
     "metadata": {
      "needs_background": "light"
     },
     "output_type": "display_data"
    }
   ],
   "source": [
    "distribution('duration', 'длительность звонка')"
   ]
  },
  {
   "cell_type": "code",
   "execution_count": 28,
   "metadata": {},
   "outputs": [],
   "source": [
    "#print('Средняя длительность звонка',round(usage_data['duration'].mean(),0))\n",
    "#print('Медианна длительность звонка',round(usage_data['duration'].median(),0))\n",
    "#print('Среднее отклонение длительности звонка', round(np.std(usage_data['duration']),0))\n",
    "#print('Дисперсия длительности звонка', round(np.var(usage_data['duration'], ddof=1),0))\n",
    "#print('Распределение длительности звонков')\n",
    "#sns.distplot(usage_data['duration'])"
   ]
  },
  {
   "cell_type": "markdown",
   "metadata": {},
   "source": [
    "Распределние немного смещено вправо, но похоже на нормальное. Это неудивительно, что так как длительность звонков, которые делает каждый человек не должно сильно отличаться, в среднем 7 часов в месяц"
   ]
  },
  {
   "cell_type": "markdown",
   "metadata": {},
   "source": [
    "Посчитаем статистику для интернет трафика"
   ]
  },
  {
   "cell_type": "code",
   "execution_count": 29,
   "metadata": {},
   "outputs": [
    {
     "name": "stdout",
     "output_type": "stream",
     "text": [
      "Среднее -  интернет трафик 17714.0\n",
      "Медианна -  интернет трафик 17408.0\n",
      "Среднее отклонение -  интернет трафик 7577.0\n",
      "Дисперсия -  интернет трафик 57429087.0\n",
      "Распределение - интернет трафик\n"
     ]
    },
    {
     "data": {
      "image/png": "[encoded data removed]",
      "text/plain": [
       "<Figure size 432x288 with 1 Axes>"
      ]
     },
     "metadata": {
      "needs_background": "light"
     },
     "output_type": "display_data"
    }
   ],
   "source": [
    "distribution('mb_used', 'интернет трафик')"
   ]
  },
  {
   "cell_type": "code",
   "execution_count": 30,
   "metadata": {},
   "outputs": [],
   "source": [
    "#print('Средний интернет трафик',round(usage_data['md_used'].mean(),0))\n",
    "#print('Медианный интернет трафик',round(usage_data['md_used'].median(),0))\n",
    "#print('Среднее отклонение интернет трафика',  round(np.std(usage_data['md_used']),0))\n",
    "#print('Дисперсия интернет трафика', round(np.var(usage_data['md_used'], ddof=1),0))\n",
    "#print('Распределение интернет трафика')\n",
    "#sns.distplot(usage_data['md_used'])"
   ]
  },
  {
   "cell_type": "markdown",
   "metadata": {},
   "source": [
    "Использование интернета распредлено нормально. В среднем пользователи использую 17.2 Гб траффика."
   ]
  },
  {
   "cell_type": "markdown",
   "metadata": {},
   "source": [
    "Посчитаем статистику для количества сообщений"
   ]
  },
  {
   "cell_type": "code",
   "execution_count": 31,
   "metadata": {},
   "outputs": [
    {
     "name": "stdout",
     "output_type": "stream",
     "text": [
      "Среднее -  количество сообщений 38.0\n",
      "Медианна -  количество сообщений 30.0\n",
      "Среднее отклонение -  количество сообщений 36.0\n",
      "Дисперсия -  количество сообщений 1307.0\n",
      "Распределение - количество сообщений\n"
     ]
    },
    {
     "data": {
      "image/png": "[encoded data removed]",
      "text/plain": [
       "<Figure size 432x288 with 1 Axes>"
      ]
     },
     "metadata": {
      "needs_background": "light"
     },
     "output_type": "display_data"
    }
   ],
   "source": [
    "distribution('message_number', 'количество сообщений')"
   ]
  },
  {
   "cell_type": "code",
   "execution_count": 32,
   "metadata": {},
   "outputs": [],
   "source": [
    "#print('Среднее значение количества сообщений',round(usage_data['message_number'].mean(),0))\n",
    "#print('Медианное значение количества сообщений',round(usage_data['message_number'].median(),0))\n",
    "#print('Среднее отклонение количества сообщений',  round(np.std(usage_data['message_number']),0))\n",
    "#print('Дисперсия количества сообщений', round(np.var(usage_data['message_number'], ddof=1),0))\n",
    "#print('Распределение Количества сообщений')\n",
    "#sns.distplot(usage_data['message_number'])"
   ]
  },
  {
   "cell_type": "markdown",
   "metadata": {},
   "source": [
    "Распределение количеcтва сообщений смещено вправо, так как большинство людей не редко используют сообщения (35% пользователей не используют совсем). В среднем - 38 сообщений в месяц, а медианное значение - 30. Пользователи заменяют соббщения общением через интернет (благо у большинства он есть ^_^)"
   ]
  },
  {
   "cell_type": "markdown",
   "metadata": {},
   "source": [
    "Посмотрим на распределение выручки по тарифам"
   ]
  },
  {
   "cell_type": "code",
   "execution_count": 33,
   "metadata": {},
   "outputs": [
    {
     "name": "stdout",
     "output_type": "stream",
     "text": [
      "Распределение выручки по тарифу \"Ультра\"\n",
      "                                          internet_dif  calls_dif  message_dif\n",
      "user_id age tariff city            month                                      \n",
      "1124    54  ultra  Махачкала       10.0        19456.0        0.0          0.0\n",
      "1240    30  ultra  Воронеж         8.0         18432.0        0.0          0.0\n",
      "1255    40  ultra  Саранск         7.0         15360.0        0.0          0.0\n",
      "1300    40  ultra  Москва          11.0        14336.0        0.0          0.0\n",
      "1240    30  ultra  Воронеж         12.0        13312.0        0.0          0.0\n",
      "...                                                ...        ...          ...\n",
      "1200    36  ultra  Санкт-Петербург 11.0            0.0        0.0          0.0\n",
      "                                   12.0            0.0        0.0          0.0\n",
      "1201    32  ultra  Москва          8.0             0.0        0.0          0.0\n",
      "                                   9.0             0.0        0.0          0.0\n",
      "1495    65  ultra  Иркутск         12.0            0.0        0.0          0.0\n",
      "\n",
      "[985 rows x 3 columns]\n",
      "Среднее превышение интернет трафика на 820.0\n"
     ]
    },
    {
     "data": {
      "image/png": "[encoded data removed]",
      "text/plain": [
       "<Figure size 432x288 with 1 Axes>"
      ]
     },
     "metadata": {
      "needs_background": "light"
     },
     "output_type": "display_data"
    }
   ],
   "source": [
    "print('Распределение выручки по тарифу \"Ультра\"')\n",
    "sns.distplot(usage_data.query('tariff == \"ultra\"')['revenue'])\n",
    "print(usage_data.query('tariff == \"ultra\"')[['internet_dif', 'calls_dif', 'message_dif' ]].\\\n",
    "      sort_values('internet_dif', ascending = False))\n",
    "print('Среднее превышение интернет трафика на', round(usage_data.query('tariff == \"ultra\"')['internet_dif'].mean(),0))"
   ]
  },
  {
   "cell_type": "markdown",
   "metadata": {},
   "source": [
    "Большинство пользователей платят базовую стоиомость за тариф - 1950 рублей в месяц. Выручка выше базовой наблюдается только за счет превышения интернет трафика. Среднее превышение трафика - 0.75 Гб, тогда как есть и превышение на 13-19 Гб"
   ]
  },
  {
   "cell_type": "code",
   "execution_count": 34,
   "metadata": {},
   "outputs": [
    {
     "name": "stdout",
     "output_type": "stream",
     "text": [
      "Распределение выручки по тарифу \"Smart\"\n",
      "                                          internet_dif  calls_dif  message_dif\n",
      "user_id age tariff city            month                                      \n",
      "1486    35  smart  Нижний Новгород 12.0        23552.0      507.0         33.0\n",
      "1042    42  smart  Хабаровск       12.0        22528.0      228.0         25.0\n",
      "1098    39  smart  Челябинск       12.0        21504.0       88.0          0.0\n",
      "1486    35  smart  Нижний Новгород 11.0        21504.0      264.0         46.0\n",
      "1159    64  smart  Красноярск      12.0        20480.0      234.0          0.0\n",
      "...                                                ...        ...          ...\n",
      "1119    53  smart  Петрозаводск    4.0             0.0        0.0          0.0\n",
      "1118    65  smart  Казань          12.0            0.0      126.0          0.0\n",
      "                                   11.0            0.0       67.0          0.0\n",
      "                                   9.0             0.0      266.0          0.0\n",
      "1499    35  smart  Пермь           12.0            0.0        0.0         16.0\n",
      "\n",
      "[2229 rows x 3 columns]\n",
      "Среднее превышение интернет трафика на 3061.0\n"
     ]
    },
    {
     "data": {
      "image/png": "[encoded data removed]",
      "text/plain": [
       "<Figure size 432x288 with 1 Axes>"
      ]
     },
     "metadata": {
      "needs_background": "light"
     },
     "output_type": "display_data"
    }
   ],
   "source": [
    "print('Распределение выручки по тарифу \"Smart\"')\n",
    "sns.distplot(usage_data.query('tariff == \"smart\"')['revenue'])\n",
    "print(usage_data.query('tariff == \"smart\"')[['internet_dif', 'calls_dif', 'message_dif' ]].\\\n",
    "      sort_values('internet_dif', ascending = False))\n",
    "print('Среднее превышение интернет трафика на', round(usage_data.query('tariff == \"smart\"')['internet_dif'].mean(),0))"
   ]
  },
  {
   "cell_type": "markdown",
   "metadata": {},
   "source": [
    "Аналогично тарифу Ультра, в тарифе Smart самое распространенная плата - 550 рублей (фиксированная плата). Превышение платы наблюдается не только за счет интернет трафика, но и за счет звонков и даже сообщений. Примечательно, что среднее превышение трафика выше чем в тарифе Ультра (2.76 против 0.75)."
   ]
  },
  {
   "cell_type": "markdown",
   "metadata": {},
   "source": [
    "Построим график выручки по тарифам</font>"
   ]
  },
  {
   "cell_type": "code",
   "execution_count": 35,
   "metadata": {},
   "outputs": [
    {
     "data": {
      "text/plain": [
       "<matplotlib.legend.Legend at 0x7f58eec3fd50>"
      ]
     },
     "execution_count": 35,
     "metadata": {},
     "output_type": "execute_result"
    },
    {
     "data": {
      "image/png": "[encoded data removed]",
      "text/plain": [
       "<Figure size 1080x576 with 1 Axes>"
      ]
     },
     "metadata": {
      "needs_background": "light"
     },
     "output_type": "display_data"
    }
   ],
   "source": [
    "plt.figure(figsize=(15,8))\n",
    "plt.title('Распределение месячной выручки для каждого тарифа ', fontsize=18)\n",
    "revenue_ultra = sns.distplot(usage_data.query('tariff == \"ultra\"')['revenue'], label='Тариф Ультра')\n",
    "revenue_ultra\n",
    "plt.legend()\n",
    "revenue_smart = sns.distplot(usage_data.query('tariff == \"smart\"')['revenue'], label='Тариф Смарт')\n",
    "revenue_smart\n",
    "plt.legend()\n"
   ]
  },
  {
   "cell_type": "markdown",
   "metadata": {},
   "source": [
    "### Вывод"
   ]
  },
  {
   "cell_type": "markdown",
   "metadata": {},
   "source": [
    "* Как и ожидалось, распределение длительности звонков и использования интернета близко к нормальному.\n",
    "* Распределение колчества соообщений смещенно вправо, так как большинство абонентов не использубт сообщения (заменяют на общение через социальные сети).\n",
    "* Абоненты в основном платят базовую месячную оплату в обоих тарифах. Превышение в тарифе Ультра полностью объясняется превышеием использования интернета, тогда как в тарифе Smart есть такж превышение в длительности звонков и даже в количестве сообщений. "
   ]
  },
  {
   "cell_type": "markdown",
   "metadata": {},
   "source": [
    "### 5. Проверка гипотез. <a class=\"anchor\" id=\"5-bullet\"></a>"
   ]
  },
  {
   "cell_type": "markdown",
   "metadata": {},
   "source": [
    "Гипотеза 1. Средняя выручка пользователей тарифов «Ультра» и «Смарт» различается\n",
    "* Нулевая гипотеза. Средняя выручка пользователей обоих тарифов не отличается\n",
    "* Альтернативная гипотеза. Средняя выручка пользователей тарифа «Ультра» отличается от выручке в тарифе «Смарт» "
   ]
  },
  {
   "cell_type": "code",
   "execution_count": 36,
   "metadata": {},
   "outputs": [
    {
     "data": {
      "text/plain": [
       "LeveneResult(statistic=641.2589168758196, pvalue=3.790329423164974e-129)"
      ]
     },
     "metadata": {},
     "output_type": "display_data"
    },
    {
     "name": "stdout",
     "output_type": "stream",
     "text": [
      "Отвергаем нулевую гипотезу на уровне значимости 0.01\n",
      "Отвергаем нулевую гипотезу на уровне значимости 0.05\n"
     ]
    }
   ],
   "source": [
    "# Выберем 2 критических уровня 1% и 5%\n",
    "alpha_1 = 0.01\n",
    "alpha_2 = 0.05\n",
    "\n",
    "# Проведем тест на равенство дисперсии выборок\n",
    "# Нулевая гипотеза: дисперсии равны\n",
    "# Альтернативная гипотез: дисперсии отличаются\n",
    "smart_revenue = usage_data.query('tariff == \"smart\"')['revenue']\n",
    "ultra_revenue = usage_data.query('tariff == \"ultra\"')['revenue']\n",
    "test_variance_places = st.levene(smart_revenue, ultra_revenue)\n",
    "display(test_variance_places)\n",
    "test_variance_tariffs_pvalue = test_variance_places[1]\n",
    "if (test_variance_tariffs_pvalue < alpha_1):\n",
    "    print(\"Отвергаем нулевую гипотезу на уровне значимости\", alpha_1)\n",
    "else:\n",
    "    print(\"Не получилось отвергнуть нулевую гипотезу на уровне значимости\",alpha_1)\n",
    "if (test_variance_tariffs_pvalue < alpha_2):\n",
    "    print(\"Отвергаем нулевую гипотезу на уровне значимости\", alpha_2)\n",
    "else:\n",
    "    print(\"Не получилось отвергнуть нулевую гипотезу на уровне значимости\",alpha_2)"
   ]
  },
  {
   "cell_type": "markdown",
   "metadata": {},
   "source": [
    "Нет подтверждения равенства дисперсий, поэтому проводим t-test без предпосылки о равенстве"
   ]
  },
  {
   "cell_type": "code",
   "execution_count": 41,
   "metadata": {},
   "outputs": [
    {
     "name": "stdout",
     "output_type": "stream",
     "text": [
      "p-значение: 5.791157218356602e-132\n",
      "Отвергаем нулевую гипотезу на уровне значимости 0.01\n",
      "Отвергаем нулевую гипотезу на уровне значимости 0.05\n"
     ]
    }
   ],
   "source": [
    "# Выберем 2 критических уровня 1% и 5%\n",
    "alpha_1 = 0.01\n",
    "alpha_2 = 0.05\n",
    "\n",
    "# Проведем t-test\n",
    "\n",
    "test_1 = st.ttest_ind(smart_revenue,ultra_revenue, equal_var = False)\n",
    "# Расчитаем p-value\n",
    "print('p-значение:', test_1.pvalue/2)\n",
    "# Вывод\n",
    "if (test_1.pvalue < alpha_1):\n",
    "    print(\"Отвергаем нулевую гипотезу на уровне значимости\", alpha_1)\n",
    "else:\n",
    "    print(\"Не получилось отвергнуть нулевую гипотезу на уровне значимости\",alpha_1)\n",
    "if (test_1.pvalue < alpha_2):\n",
    "    print(\"Отвергаем нулевую гипотезу на уровне значимости\", alpha_2)\n",
    "else:\n",
    "    print(\"Не получилось отвергнуть нулевую гипотезу на уровне значимости\",alpha_2)"
   ]
  },
  {
   "cell_type": "markdown",
   "metadata": {},
   "source": [
    "Сильные подтверждения (на уровне значимости в 1%) для того,чтобы отвергнуть нулевую гипотезу о равенстве средней выручки по тарифам."
   ]
  },
  {
   "cell_type": "markdown",
   "metadata": {},
   "source": [
    "Гипотеза 2. Средняя выручка пользователей из Москвы отличается от выручки пользователей из других регионов\n",
    "* Нулевая гипотеза. Средняя выручка пользователей Москвы и регионов не отличается\n",
    "* Альтернативная гипотеза. Средняя выручка пользователей Москвы отилчается от регионов"
   ]
  },
  {
   "cell_type": "code",
   "execution_count": 38,
   "metadata": {},
   "outputs": [
    {
     "data": {
      "text/plain": [
       "LeveneResult(statistic=7.094293866466988, pvalue=0.007771585771696081)"
      ]
     },
     "metadata": {},
     "output_type": "display_data"
    },
    {
     "name": "stdout",
     "output_type": "stream",
     "text": [
      "Отвергаем нулевую гипотезу на уровне значимости 0.01\n",
      "Отвергаем нулевую гипотезу на уровне значимости 0.05\n"
     ]
    }
   ],
   "source": [
    "# Выберем 2 критических уровня 1% и 5%\n",
    "alpha_1 = 0.01\n",
    "alpha_2 = 0.05\n",
    "\n",
    "# Разделим города на Москва и другие\n",
    "usage_data['city_category'] = 'Другие'\n",
    "usage_data.loc[usage_data.query('city == \"Москва\"').index,'city_category'] = 'Москва'\n",
    "\n",
    "# Проведем тест на равенство дисперсии выборок\n",
    "# Нулевая гипотеза: дисперсии равны\n",
    "# Альтернативная гипотез: дисперсии отличаются\n",
    "moscow_revenue = usage_data.query('city_category == \"Москва\"')['revenue']\n",
    "other_revenue = usage_data.query('city_category == \"Другие\"')['revenue']\n",
    "\n",
    "test_variance_places = st.levene(moscow_revenue, other_revenue)\n",
    "display(test_variance_places)\n",
    "test_variance_places_pvalue = test_variance_places[1]\n",
    "if (test_variance_places_pvalue < alpha_1):\n",
    "    print(\"Отвергаем нулевую гипотезу на уровне значимости\", alpha_1)\n",
    "else:\n",
    "    print(\"Не получилось отвергнуть нулевую гипотезу на уровне значимости\",alpha_1)\n",
    "if (test_variance_places_pvalue < alpha_2):\n",
    "    print(\"Отвергаем нулевую гипотезу на уровне значимости\", alpha_2)\n",
    "else:\n",
    "    print(\"Не получилось отвергнуть нулевую гипотезу на уровне значимости\",alpha_2)"
   ]
  },
  {
   "cell_type": "markdown",
   "metadata": {},
   "source": [
    "Нет подтверждения равенства дисперсий, поэтому проводим t-test без предпосылки о равенстве"
   ]
  },
  {
   "cell_type": "code",
   "execution_count": 44,
   "metadata": {
    "scrolled": true
   },
   "outputs": [
    {
     "name": "stdout",
     "output_type": "stream",
     "text": [
      "p-значение: 0.69\n",
      "Не получилось отвергнуть нулевую гипотезу на уровне значимости 0.01\n",
      "Не получилось отвергнуть нулевую гипотезу на уровне значимости 0.05\n"
     ]
    }
   ],
   "source": [
    "# Выберем 2 критических уровня 1% и 5%\n",
    "alpha_1 = 0.01\n",
    "alpha_2 = 0.05\n",
    "\n",
    "# Проведем t-test\n",
    "test_2 = st.ttest_ind(moscow_revenue,other_revenue, equal_var = False)\n",
    "# Расчитаем p-value\n",
    "print('p-значение:', round(test_2.pvalue,2))\n",
    "# Вывод\n",
    "if (test_2.pvalue < alpha_1):\n",
    "    print(\"Отвергаем нулевую гипотезу на уровне значимости\", alpha_1)\n",
    "else:\n",
    "    print(\"Не получилось отвергнуть нулевую гипотезу на уровне значимости\",alpha_1)\n",
    "if (test_2.pvalue < alpha_2):\n",
    "    print(\"Отвергаем нулевую гипотезу на уровне значимости\", alpha_2)\n",
    "else:\n",
    "    print(\"Не получилось отвергнуть нулевую гипотезу на уровне значимости\",alpha_2)"
   ]
  },
  {
   "cell_type": "markdown",
   "metadata": {},
   "source": [
    "Нет подтвержения различия выручки в Москве относительно других городов на уровне значимости 5%"
   ]
  },
  {
   "cell_type": "markdown",
   "metadata": {},
   "source": [
    "### 6. Общий вывод. <a class=\"anchor\" id=\"6-bullet\"></a>"
   ]
  },
  {
   "cell_type": "markdown",
   "metadata": {},
   "source": [
    "* В файле присутствовали нулевые значения с длительностью звонка(20%) и интернет трафика(13%). Нулевые значения по длительности присущи всем абонентам, поэтому гипотеза в том, что это технический сбой при выгрузке данных. Удалили строки с нулевой дилтельностью. Количество нулевых значений в интернет трафике отличается от пользователя к пользователю. Поэтому была отвергнута гипотеза, что нулевые значения появляются из-за округления интернет трафика меньше 10 КБ при работе технических служб мобильных телефонов и планшетов.\n",
    "* Получилось объединить файлы с информацией о пользователях, длительности звноков, использовнии интернета и количества сообщений в одну сводную таблицу. \n",
    "* Распределение звонков и использования интерета близко к нормальному, а количества сообщений смещено вправо из-за того, что большинство абонентов не используют сообщения, а предпочитают использовать сообщения через интернет\n",
    "* Есть сильные подтверждения, чтобы отвергнуть гипотезу о развенстве выручки в обоих тарифах, но нет подтверждений различия выручки в Москве относительно других городов."
   ]
  }
 ],
 "metadata": {
  "kernelspec": {
   "display_name": "Python 3",
   "language": "python",
   "name": "python3"
  },
  "language_info": {
   "codemirror_mode": {
    "name": "ipython",
    "version": 3
   },
   "file_extension": ".py",
   "mimetype": "text/x-python",
   "name": "python",
   "nbconvert_exporter": "python",
   "pygments_lexer": "ipython3",
   "version": "3.8.3"
  },
  "toc": {
   "base_numbering": 1,
   "nav_menu": {},
   "number_sections": true,
   "sideBar": true,
   "skip_h1_title": false,
   "title_cell": "Table of Contents",
   "title_sidebar": "Contents",
   "toc_cell": false,
   "toc_position": {},
   "toc_section_display": true,
   "toc_window_display": false
  }
 },
 "nbformat": 4,
 "nbformat_minor": 2
}
