{
 "cells": [
  {
   "cell_type": "markdown",
   "metadata": {},
   "source": [
    "# Отток клиентов"
   ]
  },
  {
   "cell_type": "markdown",
   "metadata": {},
   "source": [
    "Из «Бета-Банка» стали уходить клиенты. Каждый месяц. Немного, но заметно. Банковские маркетологи посчитали: сохранять текущих клиентов дешевле, чем привлекать новых.\n",
    "\n",
    "Нужно спрогнозировать, уйдёт клиент из банка в ближайшее время или нет. Вам предоставлены исторические данные о поведении клиентов и расторжении договоров с банком. \n",
    "\n",
    "Постройте модель с предельно большим значением *F1*-меры. Чтобы сдать проект успешно, нужно довести метрику до 0.59. Проверьте *F1*-меру на тестовой выборке самостоятельно.\n",
    "\n",
    "Дополнительно измеряйте *AUC-ROC*, сравнивайте её значение с *F1*-мерой.\n",
    "\n",
    "Источник данных: [https://www.kaggle.com/barelydedicated/bank-customer-churn-modeling](https://www.kaggle.com/barelydedicated/bank-customer-churn-modeling)"
   ]
  },
  {
   "cell_type": "markdown",
   "metadata": {},
   "source": [
    "### Описание данных\n",
    "Признаки\n",
    "\n",
    "* RowNumber — индекс строки в данных\n",
    "* CustomerId — уникальный идентификатор клиента\n",
    "* Surname — фамилия\n",
    "* CreditScore — кредитный рейтинг\n",
    "* Geography — страна проживания\n",
    "* Gender — пол\n",
    "* Age — возраст\n",
    "* Tenure — количество недвижимости у клиента\n",
    "* Balance — баланс на счёте\n",
    "* NumOfProducts — количество продуктов банка, используемых клиентом\n",
    "* HasCrCard — наличие кредитной карты\n",
    "* IsActiveMember — активность клиента\n",
    "* EstimatedSalary — предполагаемая зарплата\n",
    "\n",
    "Целевой признак\n",
    "\n",
    "* Exited — факт ухода клиента"
   ]
  },
  {
   "cell_type": "markdown",
   "metadata": {},
   "source": [
    " ### Оглавление <a class=\"anchor\" id=\"0-bullet\"></a>"
   ]
  },
  {
   "cell_type": "markdown",
   "metadata": {},
   "source": [
    "* [Подготовка данных](#1-bullet)\n",
    "* [Исследование задачи](#2-bullet)\n",
    "* [Тестирование модели](#3-bullet)\n",
    "* [Вывод](#4-bullet)"
   ]
  },
  {
   "cell_type": "markdown",
   "metadata": {},
   "source": [
    "# 1. Подготовка данных <a class=\"anchor\" id=\"1-bullet\"></a>"
   ]
  },
  {
   "cell_type": "markdown",
   "metadata": {},
   "source": [
    "[Обратно в оглавление](#0-bullet)"
   ]
  },
  {
   "cell_type": "markdown",
   "metadata": {},
   "source": [
    "Подключим библиотеки"
   ]
  },
  {
   "cell_type": "code",
   "execution_count": 1,
   "metadata": {},
   "outputs": [],
   "source": [
    "import pandas as pd\n",
    "\n",
    "from sklearn.model_selection import train_test_split\n",
    "\n",
    "from sklearn.compose import ColumnTransformer\n",
    "from sklearn.preprocessing import StandardScaler\n",
    "\n",
    "from sklearn.model_selection import GridSearchCV, RandomizedSearchCV\n",
    "\n",
    "from sklearn.tree import DecisionTreeClassifier\n",
    "from sklearn.ensemble import RandomForestClassifier\n",
    "from sklearn.linear_model import LogisticRegression\n",
    "\n",
    "from sklearn.metrics import f1_score\n",
    "import numpy as np\n",
    "\n",
    "import warnings\n",
    "\n",
    "from random import *\n",
    "\n",
    "from sklearn.utils import shuffle\n",
    "\n",
    "import matplotlib.pyplot as plt\n",
    "import seaborn as sns"
   ]
  },
  {
   "cell_type": "markdown",
   "metadata": {},
   "source": [
    "Откроем файл"
   ]
  },
  {
   "cell_type": "code",
   "execution_count": 2,
   "metadata": {},
   "outputs": [
    {
     "name": "stdout",
     "output_type": "stream",
     "text": [
      "<class 'pandas.core.frame.DataFrame'>\n",
      "RangeIndex: 10000 entries, 0 to 9999\n",
      "Data columns (total 14 columns):\n",
      "RowNumber          10000 non-null int64\n",
      "CustomerId         10000 non-null int64\n",
      "Surname            10000 non-null object\n",
      "CreditScore        10000 non-null int64\n",
      "Geography          10000 non-null object\n",
      "Gender             10000 non-null object\n",
      "Age                10000 non-null int64\n",
      "Tenure             9091 non-null float64\n",
      "Balance            10000 non-null float64\n",
      "NumOfProducts      10000 non-null int64\n",
      "HasCrCard          10000 non-null int64\n",
      "IsActiveMember     10000 non-null int64\n",
      "EstimatedSalary    10000 non-null float64\n",
      "Exited             10000 non-null int64\n",
      "dtypes: float64(3), int64(8), object(3)\n",
      "memory usage: 1.1+ MB\n"
     ]
    },
    {
     "data": {
      "text/plain": [
       "None"
      ]
     },
     "metadata": {},
     "output_type": "display_data"
    },
    {
     "data": {
      "text/html": [
       "<div>\n",
       "<style scoped>\n",
       "    .dataframe tbody tr th:only-of-type {\n",
       "        vertical-align: middle;\n",
       "    }\n",
       "\n",
       "    .dataframe tbody tr th {\n",
       "        vertical-align: top;\n",
       "    }\n",
       "\n",
       "    .dataframe thead th {\n",
       "        text-align: right;\n",
       "    }\n",
       "</style>\n",
       "<table border=\"1\" class=\"dataframe\">\n",
       "  <thead>\n",
       "    <tr style=\"text-align: right;\">\n",
       "      <th></th>\n",
       "      <th>RowNumber</th>\n",
       "      <th>CustomerId</th>\n",
       "      <th>Surname</th>\n",
       "      <th>CreditScore</th>\n",
       "      <th>Geography</th>\n",
       "      <th>Gender</th>\n",
       "      <th>Age</th>\n",
       "      <th>Tenure</th>\n",
       "      <th>Balance</th>\n",
       "      <th>NumOfProducts</th>\n",
       "      <th>HasCrCard</th>\n",
       "      <th>IsActiveMember</th>\n",
       "      <th>EstimatedSalary</th>\n",
       "      <th>Exited</th>\n",
       "    </tr>\n",
       "  </thead>\n",
       "  <tbody>\n",
       "    <tr>\n",
       "      <td>0</td>\n",
       "      <td>1</td>\n",
       "      <td>15634602</td>\n",
       "      <td>Hargrave</td>\n",
       "      <td>619</td>\n",
       "      <td>France</td>\n",
       "      <td>Female</td>\n",
       "      <td>42</td>\n",
       "      <td>2.0</td>\n",
       "      <td>0.00</td>\n",
       "      <td>1</td>\n",
       "      <td>1</td>\n",
       "      <td>1</td>\n",
       "      <td>101348.88</td>\n",
       "      <td>1</td>\n",
       "    </tr>\n",
       "    <tr>\n",
       "      <td>1</td>\n",
       "      <td>2</td>\n",
       "      <td>15647311</td>\n",
       "      <td>Hill</td>\n",
       "      <td>608</td>\n",
       "      <td>Spain</td>\n",
       "      <td>Female</td>\n",
       "      <td>41</td>\n",
       "      <td>1.0</td>\n",
       "      <td>83807.86</td>\n",
       "      <td>1</td>\n",
       "      <td>0</td>\n",
       "      <td>1</td>\n",
       "      <td>112542.58</td>\n",
       "      <td>0</td>\n",
       "    </tr>\n",
       "    <tr>\n",
       "      <td>2</td>\n",
       "      <td>3</td>\n",
       "      <td>15619304</td>\n",
       "      <td>Onio</td>\n",
       "      <td>502</td>\n",
       "      <td>France</td>\n",
       "      <td>Female</td>\n",
       "      <td>42</td>\n",
       "      <td>8.0</td>\n",
       "      <td>159660.80</td>\n",
       "      <td>3</td>\n",
       "      <td>1</td>\n",
       "      <td>0</td>\n",
       "      <td>113931.57</td>\n",
       "      <td>1</td>\n",
       "    </tr>\n",
       "    <tr>\n",
       "      <td>3</td>\n",
       "      <td>4</td>\n",
       "      <td>15701354</td>\n",
       "      <td>Boni</td>\n",
       "      <td>699</td>\n",
       "      <td>France</td>\n",
       "      <td>Female</td>\n",
       "      <td>39</td>\n",
       "      <td>1.0</td>\n",
       "      <td>0.00</td>\n",
       "      <td>2</td>\n",
       "      <td>0</td>\n",
       "      <td>0</td>\n",
       "      <td>93826.63</td>\n",
       "      <td>0</td>\n",
       "    </tr>\n",
       "    <tr>\n",
       "      <td>4</td>\n",
       "      <td>5</td>\n",
       "      <td>15737888</td>\n",
       "      <td>Mitchell</td>\n",
       "      <td>850</td>\n",
       "      <td>Spain</td>\n",
       "      <td>Female</td>\n",
       "      <td>43</td>\n",
       "      <td>2.0</td>\n",
       "      <td>125510.82</td>\n",
       "      <td>1</td>\n",
       "      <td>1</td>\n",
       "      <td>1</td>\n",
       "      <td>79084.10</td>\n",
       "      <td>0</td>\n",
       "    </tr>\n",
       "  </tbody>\n",
       "</table>\n",
       "</div>"
      ],
      "text/plain": [
       "   RowNumber  CustomerId   Surname  CreditScore Geography  Gender  Age  \\\n",
       "0          1    15634602  Hargrave          619    France  Female   42   \n",
       "1          2    15647311      Hill          608     Spain  Female   41   \n",
       "2          3    15619304      Onio          502    France  Female   42   \n",
       "3          4    15701354      Boni          699    France  Female   39   \n",
       "4          5    15737888  Mitchell          850     Spain  Female   43   \n",
       "\n",
       "   Tenure    Balance  NumOfProducts  HasCrCard  IsActiveMember  \\\n",
       "0     2.0       0.00              1          1               1   \n",
       "1     1.0   83807.86              1          0               1   \n",
       "2     8.0  159660.80              3          1               0   \n",
       "3     1.0       0.00              2          0               0   \n",
       "4     2.0  125510.82              1          1               1   \n",
       "\n",
       "   EstimatedSalary  Exited  \n",
       "0        101348.88       1  \n",
       "1        112542.58       0  \n",
       "2        113931.57       1  \n",
       "3         93826.63       0  \n",
       "4         79084.10       0  "
      ]
     },
     "metadata": {},
     "output_type": "display_data"
    }
   ],
   "source": [
    "data = pd.read_csv('/datasets/Churn.csv')\n",
    "display(data.info())\n",
    "display(data.head(5))"
   ]
  },
  {
   "cell_type": "markdown",
   "metadata": {},
   "source": [
    "* Переведем название колонок в нижний регистр\n",
    "* Значения в столбце tenure приведем к целочисленным\n",
    "* Остаток на счете и предполагаемую зарплату округлим до целого числа, так как дробная часть несущественна, когда порядки чисел сотни и десятки тысяч"
   ]
  },
  {
   "cell_type": "code",
   "execution_count": 3,
   "metadata": {},
   "outputs": [
    {
     "data": {
      "text/plain": [
       "Age\n",
       "18    22\n",
       "19    27\n",
       "20    40\n",
       "21    53\n",
       "22    84\n",
       "      ..\n",
       "83     1\n",
       "84     2\n",
       "85     1\n",
       "88     1\n",
       "92     2\n",
       "Name: Age, Length: 70, dtype: int64"
      ]
     },
     "metadata": {},
     "output_type": "display_data"
    }
   ],
   "source": [
    "display(data.groupby('Age')['Age'].count())"
   ]
  },
  {
   "cell_type": "code",
   "execution_count": 4,
   "metadata": {},
   "outputs": [],
   "source": [
    "data.columns = data.columns.str.lower()\n",
    "data['tenure'] = data['tenure'].astype('Int64')\n",
    "data['balance'] = round(data['balance'],0).astype('Int64')\n",
    "data['estimatedsalary'] = round(data['estimatedsalary'],0).astype('Int64')"
   ]
  },
  {
   "cell_type": "markdown",
   "metadata": {},
   "source": [
    "Столбец tenure содержит 909 пропусков, исследуем их"
   ]
  },
  {
   "cell_type": "code",
   "execution_count": 5,
   "metadata": {},
   "outputs": [
    {
     "data": {
      "text/plain": [
       "tenure\n",
       "0     382\n",
       "1     952\n",
       "2     950\n",
       "3     928\n",
       "4     885\n",
       "5     927\n",
       "6     881\n",
       "7     925\n",
       "8     933\n",
       "9     882\n",
       "10    446\n",
       "Name: tenure, dtype: int64"
      ]
     },
     "metadata": {},
     "output_type": "display_data"
    },
    {
     "data": {
      "text/html": [
       "<div>\n",
       "<style scoped>\n",
       "    .dataframe tbody tr th:only-of-type {\n",
       "        vertical-align: middle;\n",
       "    }\n",
       "\n",
       "    .dataframe tbody tr th {\n",
       "        vertical-align: top;\n",
       "    }\n",
       "\n",
       "    .dataframe thead th {\n",
       "        text-align: right;\n",
       "    }\n",
       "</style>\n",
       "<table border=\"1\" class=\"dataframe\">\n",
       "  <thead>\n",
       "    <tr style=\"text-align: right;\">\n",
       "      <th></th>\n",
       "      <th>rownumber</th>\n",
       "      <th>customerid</th>\n",
       "      <th>surname</th>\n",
       "      <th>creditscore</th>\n",
       "      <th>geography</th>\n",
       "      <th>gender</th>\n",
       "      <th>age</th>\n",
       "      <th>tenure</th>\n",
       "      <th>balance</th>\n",
       "      <th>numofproducts</th>\n",
       "      <th>hascrcard</th>\n",
       "      <th>isactivemember</th>\n",
       "      <th>estimatedsalary</th>\n",
       "      <th>exited</th>\n",
       "    </tr>\n",
       "  </thead>\n",
       "  <tbody>\n",
       "    <tr>\n",
       "      <td>30</td>\n",
       "      <td>31</td>\n",
       "      <td>15589475</td>\n",
       "      <td>Azikiwe</td>\n",
       "      <td>591</td>\n",
       "      <td>Spain</td>\n",
       "      <td>Female</td>\n",
       "      <td>39</td>\n",
       "      <td>NaN</td>\n",
       "      <td>0</td>\n",
       "      <td>3</td>\n",
       "      <td>1</td>\n",
       "      <td>0</td>\n",
       "      <td>140469</td>\n",
       "      <td>1</td>\n",
       "    </tr>\n",
       "    <tr>\n",
       "      <td>48</td>\n",
       "      <td>49</td>\n",
       "      <td>15766205</td>\n",
       "      <td>Yin</td>\n",
       "      <td>550</td>\n",
       "      <td>Germany</td>\n",
       "      <td>Male</td>\n",
       "      <td>38</td>\n",
       "      <td>NaN</td>\n",
       "      <td>103391</td>\n",
       "      <td>1</td>\n",
       "      <td>0</td>\n",
       "      <td>1</td>\n",
       "      <td>90878</td>\n",
       "      <td>0</td>\n",
       "    </tr>\n",
       "    <tr>\n",
       "      <td>51</td>\n",
       "      <td>52</td>\n",
       "      <td>15768193</td>\n",
       "      <td>Trevisani</td>\n",
       "      <td>585</td>\n",
       "      <td>Germany</td>\n",
       "      <td>Male</td>\n",
       "      <td>36</td>\n",
       "      <td>NaN</td>\n",
       "      <td>146051</td>\n",
       "      <td>2</td>\n",
       "      <td>0</td>\n",
       "      <td>0</td>\n",
       "      <td>86425</td>\n",
       "      <td>0</td>\n",
       "    </tr>\n",
       "    <tr>\n",
       "      <td>53</td>\n",
       "      <td>54</td>\n",
       "      <td>15702298</td>\n",
       "      <td>Parkhill</td>\n",
       "      <td>655</td>\n",
       "      <td>Germany</td>\n",
       "      <td>Male</td>\n",
       "      <td>41</td>\n",
       "      <td>NaN</td>\n",
       "      <td>125562</td>\n",
       "      <td>1</td>\n",
       "      <td>0</td>\n",
       "      <td>0</td>\n",
       "      <td>164041</td>\n",
       "      <td>1</td>\n",
       "    </tr>\n",
       "    <tr>\n",
       "      <td>60</td>\n",
       "      <td>61</td>\n",
       "      <td>15651280</td>\n",
       "      <td>Hunter</td>\n",
       "      <td>742</td>\n",
       "      <td>Germany</td>\n",
       "      <td>Male</td>\n",
       "      <td>35</td>\n",
       "      <td>NaN</td>\n",
       "      <td>136857</td>\n",
       "      <td>1</td>\n",
       "      <td>0</td>\n",
       "      <td>0</td>\n",
       "      <td>84510</td>\n",
       "      <td>0</td>\n",
       "    </tr>\n",
       "  </tbody>\n",
       "</table>\n",
       "</div>"
      ],
      "text/plain": [
       "    rownumber  customerid    surname  creditscore geography  gender  age  \\\n",
       "30         31    15589475    Azikiwe          591     Spain  Female   39   \n",
       "48         49    15766205        Yin          550   Germany    Male   38   \n",
       "51         52    15768193  Trevisani          585   Germany    Male   36   \n",
       "53         54    15702298   Parkhill          655   Germany    Male   41   \n",
       "60         61    15651280     Hunter          742   Germany    Male   35   \n",
       "\n",
       "    tenure  balance  numofproducts  hascrcard  isactivemember  \\\n",
       "30     NaN        0              3          1               0   \n",
       "48     NaN   103391              1          0               1   \n",
       "51     NaN   146051              2          0               0   \n",
       "53     NaN   125562              1          0               0   \n",
       "60     NaN   136857              1          0               0   \n",
       "\n",
       "    estimatedsalary  exited  \n",
       "30           140469       1  \n",
       "48            90878       0  \n",
       "51            86425       0  \n",
       "53           164041       1  \n",
       "60            84510       0  "
      ]
     },
     "metadata": {},
     "output_type": "display_data"
    }
   ],
   "source": [
    "display(data.groupby('tenure')['tenure'].count())\n",
    "display(data[data['tenure'].isnull()].head(5)) "
   ]
  },
  {
   "cell_type": "markdown",
   "metadata": {},
   "source": [
    "Заполним пропуски случайными числами в диапоазоне от минимума до максимума, чтобы не смещать выборку"
   ]
  },
  {
   "cell_type": "code",
   "execution_count": 7,
   "metadata": {},
   "outputs": [
    {
     "data": {
      "text/plain": [
       "Int64Index([  30,   48,   51,   53,   60,   82,   85,   94,   99,  111,\n",
       "            ...\n",
       "            9914, 9923, 9925, 9931, 9938, 9944, 9956, 9964, 9985, 9999],\n",
       "           dtype='int64', length=909)"
      ]
     },
     "metadata": {},
     "output_type": "display_data"
    },
    {
     "data": {
      "text/plain": [
       "tenure\n",
       "0      458\n",
       "1     1042\n",
       "2     1034\n",
       "3     1005\n",
       "4      972\n",
       "5     1016\n",
       "6      955\n",
       "7     1005\n",
       "8     1005\n",
       "9      970\n",
       "10     538\n",
       "Name: tenure, dtype: int64"
      ]
     },
     "metadata": {},
     "output_type": "display_data"
    }
   ],
   "source": [
    "max_tenure = data['tenure'].max()\n",
    "min_tenure = data['tenure'].min()\n",
    "null_index = data[data['tenure'].isnull()].index\n",
    "display(null_index)\n",
    "for i in null_index:\n",
    "    data.loc[i,'tenure'] = randint(min_tenure, max_tenure)\n",
    "display(data.groupby('tenure')['tenure'].count())"
   ]
  },
  {
   "cell_type": "markdown",
   "metadata": {},
   "source": [
    "Исключим столбец с номером столбца, id пользователя и фаимилией, так как он не является информативным"
   ]
  },
  {
   "cell_type": "code",
   "execution_count": 8,
   "metadata": {},
   "outputs": [],
   "source": [
    "data = data.drop(columns=['rownumber','customerid','surname'])"
   ]
  },
  {
   "cell_type": "markdown",
   "metadata": {},
   "source": [
    "* В данном проекте будем использовать кросс-валидацию, поэтому не будем делать выборку на валиадционную. \n",
    "* Применим порядковое кодирование для кодирования столбцов gender и geography, так как всего 2 пола и 3 страны\n",
    "* Разделим на обучающую и тестовую для дальнейшего нормирования количественных данных"
   ]
  },
  {
   "cell_type": "code",
   "execution_count": 9,
   "metadata": {},
   "outputs": [
    {
     "data": {
      "text/plain": [
       "gender\n",
       "Female    4543\n",
       "Male      5457\n",
       "Name: gender, dtype: int64"
      ]
     },
     "metadata": {},
     "output_type": "display_data"
    },
    {
     "data": {
      "text/plain": [
       "geography\n",
       "France     5014\n",
       "Germany    2509\n",
       "Spain      2477\n",
       "Name: geography, dtype: int64"
      ]
     },
     "metadata": {},
     "output_type": "display_data"
    }
   ],
   "source": [
    "#Зададим random state для всего проекта\n",
    "random_state = 100500\n",
    "#Выделим целевую переменную\n",
    "x = data.drop('exited',axis=1)\n",
    "y = data['exited']\n",
    "#Проверка, что всего 2 пола и 3 страны\n",
    "display(data.groupby('gender')['gender'].count())\n",
    "display(data.groupby('geography')['geography'].count())\n",
    "#Создание дамми переменных\n",
    "x = pd.get_dummies(x, drop_first= True)\n",
    "#Разделение выборки\n",
    "x_train,x_test,y_train,y_test=train_test_split(x,y,test_size=0.2)"
   ]
  },
  {
   "cell_type": "markdown",
   "metadata": {},
   "source": [
    "Сделаем нормирование кредитного рейтинга,заработной платы и баланса"
   ]
  },
  {
   "cell_type": "code",
   "execution_count": 10,
   "metadata": {},
   "outputs": [],
   "source": [
    "#Создание трансформера для нормирования\n",
    "scaler = ColumnTransformer(transformers=[('scale',StandardScaler(),['creditscore','balance','estimatedsalary'])],remainder = 'passthrough')"
   ]
  },
  {
   "cell_type": "markdown",
   "metadata": {},
   "source": [
    "Отнормируем данные обучающей выборки"
   ]
  },
  {
   "cell_type": "code",
   "execution_count": 11,
   "metadata": {
    "scrolled": true
   },
   "outputs": [
    {
     "data": {
      "text/html": [
       "<div>\n",
       "<style scoped>\n",
       "    .dataframe tbody tr th:only-of-type {\n",
       "        vertical-align: middle;\n",
       "    }\n",
       "\n",
       "    .dataframe tbody tr th {\n",
       "        vertical-align: top;\n",
       "    }\n",
       "\n",
       "    .dataframe thead th {\n",
       "        text-align: right;\n",
       "    }\n",
       "</style>\n",
       "<table border=\"1\" class=\"dataframe\">\n",
       "  <thead>\n",
       "    <tr style=\"text-align: right;\">\n",
       "      <th></th>\n",
       "      <th>0</th>\n",
       "      <th>1</th>\n",
       "      <th>2</th>\n",
       "      <th>3</th>\n",
       "      <th>4</th>\n",
       "      <th>5</th>\n",
       "      <th>6</th>\n",
       "      <th>7</th>\n",
       "      <th>8</th>\n",
       "      <th>9</th>\n",
       "      <th>10</th>\n",
       "    </tr>\n",
       "  </thead>\n",
       "  <tbody>\n",
       "    <tr>\n",
       "      <td>0</td>\n",
       "      <td>0.730006</td>\n",
       "      <td>-1.21929</td>\n",
       "      <td>-0.502793</td>\n",
       "      <td>37</td>\n",
       "      <td>9</td>\n",
       "      <td>2</td>\n",
       "      <td>1</td>\n",
       "      <td>0</td>\n",
       "      <td>0</td>\n",
       "      <td>0</td>\n",
       "      <td>0</td>\n",
       "    </tr>\n",
       "    <tr>\n",
       "      <td>1</td>\n",
       "      <td>1.99874</td>\n",
       "      <td>1.35913</td>\n",
       "      <td>0.80171</td>\n",
       "      <td>18</td>\n",
       "      <td>2</td>\n",
       "      <td>1</td>\n",
       "      <td>0</td>\n",
       "      <td>0</td>\n",
       "      <td>0</td>\n",
       "      <td>0</td>\n",
       "      <td>1</td>\n",
       "    </tr>\n",
       "    <tr>\n",
       "      <td>2</td>\n",
       "      <td>0.152371</td>\n",
       "      <td>-0.133064</td>\n",
       "      <td>-1.21767</td>\n",
       "      <td>34</td>\n",
       "      <td>5</td>\n",
       "      <td>1</td>\n",
       "      <td>1</td>\n",
       "      <td>1</td>\n",
       "      <td>0</td>\n",
       "      <td>0</td>\n",
       "      <td>0</td>\n",
       "    </tr>\n",
       "    <tr>\n",
       "      <td>3</td>\n",
       "      <td>-0.817232</td>\n",
       "      <td>1.67361</td>\n",
       "      <td>-1.72331</td>\n",
       "      <td>49</td>\n",
       "      <td>4</td>\n",
       "      <td>1</td>\n",
       "      <td>0</td>\n",
       "      <td>0</td>\n",
       "      <td>0</td>\n",
       "      <td>0</td>\n",
       "      <td>1</td>\n",
       "    </tr>\n",
       "    <tr>\n",
       "      <td>4</td>\n",
       "      <td>0.162686</td>\n",
       "      <td>0.739816</td>\n",
       "      <td>-0.54162</td>\n",
       "      <td>44</td>\n",
       "      <td>2</td>\n",
       "      <td>1</td>\n",
       "      <td>0</td>\n",
       "      <td>0</td>\n",
       "      <td>1</td>\n",
       "      <td>0</td>\n",
       "      <td>0</td>\n",
       "    </tr>\n",
       "    <tr>\n",
       "      <td>...</td>\n",
       "      <td>...</td>\n",
       "      <td>...</td>\n",
       "      <td>...</td>\n",
       "      <td>...</td>\n",
       "      <td>...</td>\n",
       "      <td>...</td>\n",
       "      <td>...</td>\n",
       "      <td>...</td>\n",
       "      <td>...</td>\n",
       "      <td>...</td>\n",
       "      <td>...</td>\n",
       "    </tr>\n",
       "    <tr>\n",
       "      <td>7995</td>\n",
       "      <td>0.760951</td>\n",
       "      <td>-1.21929</td>\n",
       "      <td>0.872748</td>\n",
       "      <td>32</td>\n",
       "      <td>6</td>\n",
       "      <td>2</td>\n",
       "      <td>1</td>\n",
       "      <td>1</td>\n",
       "      <td>0</td>\n",
       "      <td>0</td>\n",
       "      <td>0</td>\n",
       "    </tr>\n",
       "    <tr>\n",
       "      <td>7996</td>\n",
       "      <td>-0.817232</td>\n",
       "      <td>-1.21929</td>\n",
       "      <td>-0.625647</td>\n",
       "      <td>41</td>\n",
       "      <td>10</td>\n",
       "      <td>1</td>\n",
       "      <td>1</td>\n",
       "      <td>1</td>\n",
       "      <td>0</td>\n",
       "      <td>0</td>\n",
       "      <td>1</td>\n",
       "    </tr>\n",
       "    <tr>\n",
       "      <td>7997</td>\n",
       "      <td>0.0285917</td>\n",
       "      <td>-1.21929</td>\n",
       "      <td>-0.805473</td>\n",
       "      <td>33</td>\n",
       "      <td>1</td>\n",
       "      <td>2</td>\n",
       "      <td>0</td>\n",
       "      <td>0</td>\n",
       "      <td>0</td>\n",
       "      <td>0</td>\n",
       "      <td>1</td>\n",
       "    </tr>\n",
       "    <tr>\n",
       "      <td>7998</td>\n",
       "      <td>-0.610934</td>\n",
       "      <td>-1.21929</td>\n",
       "      <td>1.23865</td>\n",
       "      <td>42</td>\n",
       "      <td>10</td>\n",
       "      <td>2</td>\n",
       "      <td>0</td>\n",
       "      <td>0</td>\n",
       "      <td>0</td>\n",
       "      <td>0</td>\n",
       "      <td>0</td>\n",
       "    </tr>\n",
       "    <tr>\n",
       "      <td>7999</td>\n",
       "      <td>2.06063</td>\n",
       "      <td>1.44085</td>\n",
       "      <td>-0.961301</td>\n",
       "      <td>40</td>\n",
       "      <td>4</td>\n",
       "      <td>2</td>\n",
       "      <td>0</td>\n",
       "      <td>1</td>\n",
       "      <td>1</td>\n",
       "      <td>0</td>\n",
       "      <td>1</td>\n",
       "    </tr>\n",
       "  </tbody>\n",
       "</table>\n",
       "<p>8000 rows × 11 columns</p>\n",
       "</div>"
      ],
      "text/plain": [
       "              0         1         2   3   4  5  6  7  8  9 10\n",
       "0      0.730006  -1.21929 -0.502793  37   9  2  1  0  0  0  0\n",
       "1       1.99874   1.35913   0.80171  18   2  1  0  0  0  0  1\n",
       "2      0.152371 -0.133064  -1.21767  34   5  1  1  1  0  0  0\n",
       "3     -0.817232   1.67361  -1.72331  49   4  1  0  0  0  0  1\n",
       "4      0.162686  0.739816  -0.54162  44   2  1  0  0  1  0  0\n",
       "...         ...       ...       ...  ..  .. .. .. .. .. .. ..\n",
       "7995   0.760951  -1.21929  0.872748  32   6  2  1  1  0  0  0\n",
       "7996  -0.817232  -1.21929 -0.625647  41  10  1  1  1  0  0  1\n",
       "7997  0.0285917  -1.21929 -0.805473  33   1  2  0  0  0  0  1\n",
       "7998  -0.610934  -1.21929   1.23865  42  10  2  0  0  0  0  0\n",
       "7999    2.06063   1.44085 -0.961301  40   4  2  0  1  1  0  1\n",
       "\n",
       "[8000 rows x 11 columns]"
      ]
     },
     "metadata": {},
     "output_type": "display_data"
    }
   ],
   "source": [
    "x_train_sc = scaler.fit_transform(x_train)\n",
    "display(pd.DataFrame(x_train_sc))"
   ]
  },
  {
   "cell_type": "markdown",
   "metadata": {},
   "source": [
    "# 2. Исследование задачи <a class=\"anchor\" id=\"2-bullet\"></a>"
   ]
  },
  {
   "cell_type": "markdown",
   "metadata": {},
   "source": [
    "[Обратно в оглавление](#0-bullet)"
   ]
  },
  {
   "cell_type": "markdown",
   "metadata": {},
   "source": [
    "* Определим серьезность проблемы дисабаланса и если она есть, то добавим в парамтеры модели для поиска параметр balanced\n",
    "* В качестве моделей использем логистическую регрессию, дерево решений и случайный лес\n",
    "* Оптимальные параметры найдем через gridsearch\n",
    "* В качестве обучающей выборки будем использовать нормированную (x_train_sc) и ненормированную выборку (x_train)\n",
    "* Применим кросс-валидацию"
   ]
  },
  {
   "cell_type": "code",
   "execution_count": 12,
   "metadata": {},
   "outputs": [
    {
     "name": "stdout",
     "output_type": "stream",
     "text": [
      "Количество ответов \"1\" =  1648\n",
      "Количество ответов \"0\" =  6352\n"
     ]
    }
   ],
   "source": [
    "print('Количество ответов \"1\" = ',y_train.sum())\n",
    "print('Количество ответов \"0\" = ',len(y_train)-y_train.sum())"
   ]
  },
  {
   "cell_type": "markdown",
   "metadata": {},
   "source": [
    "Дисбаланс меньше 4, но все равно добавим парметр balanced в модели"
   ]
  },
  {
   "cell_type": "code",
   "execution_count": 13,
   "metadata": {},
   "outputs": [],
   "source": [
    "#Обозначим модели\n",
    "model_1 = LogisticRegression(random_state = random_state)\n",
    "model_2 = DecisionTreeClassifier(random_state = random_state)\n",
    "model_3 = RandomForestClassifier(random_state = random_state)\n",
    "#Обозначим парметры для каждой модели\n",
    "params_1= {'penalty':['l1','l2'],\n",
    "          'C': [0.001,0.01,0.1,1,10,100],\n",
    "          'class_weight':['balanced',None]\n",
    "          }\n",
    "params_2 = {'criterion':['gini','entropy'],\n",
    "           'max_depth': range(1,16),\n",
    "            'splitter': ['best','random'],\n",
    "            'class_weight':['balanced',None]\n",
    "           }\n",
    "params_3 = {'criterion':['gini','entropy'],\n",
    "           'max_depth': range(1,16),\n",
    "            'class_weight':['balanced',None],\n",
    "           'n_estimators': range (1,16)}"
   ]
  },
  {
   "cell_type": "markdown",
   "metadata": {},
   "source": [
    "Создадим функцию для upsampling и downsampling"
   ]
  },
  {
   "cell_type": "code",
   "execution_count": 14,
   "metadata": {},
   "outputs": [],
   "source": [
    "def upsampling(x, y, repeat):\n",
    "    global random_state\n",
    "    features_zeros = x[y == 0]\n",
    "    features_ones = x[y == 1]\n",
    "    target_zeros = y[y == 0]\n",
    "    target_ones = y[y == 1]\n",
    "    x_upsampled = pd.concat([features_zeros] + [features_ones] * repeat)\n",
    "    y_upsampled = pd.concat([target_zeros] + [target_ones] * repeat)\n",
    "    \n",
    "    x_upsampled, y_upsampled = shuffle(\n",
    "        x_upsampled, y_upsampled, random_state=random_state)\n",
    "    \n",
    "    return x_upsampled, y_upsampled"
   ]
  },
  {
   "cell_type": "code",
   "execution_count": 15,
   "metadata": {},
   "outputs": [],
   "source": [
    "def downsampling(x,y, fraction):\n",
    "    global random_state\n",
    "    features_zeros = x[y == 0]\n",
    "    features_ones = x[y == 1]\n",
    "    target_zeros = y[y == 0]\n",
    "    target_ones = y[y == 1]\n",
    "\n",
    "    x_downsampled = pd.concat(\n",
    "        [features_zeros.sample(frac=fraction, random_state=random_state)] + [features_ones])\n",
    "    y_downsampled = pd.concat(\n",
    "        [target_zeros.sample(frac=fraction, random_state=random_state)] + [target_ones])\n",
    "    \n",
    "    x_downsampled, y_downsampled = shuffle(\n",
    "        x_downsampled, y_downsampled, random_state=random_state)\n",
    "    \n",
    "    return x_downsampled, y_downsampled"
   ]
  },
  {
   "cell_type": "markdown",
   "metadata": {},
   "source": [
    "Создадим 3 набора данных: upsampling, downsampling и смешанный (сначала downsampling, затем upsampling)\n"
   ]
  },
  {
   "cell_type": "code",
   "execution_count": 16,
   "metadata": {},
   "outputs": [],
   "source": [
    "x_train_up,y_train_up = upsampling(x_train,y_train,5)\n",
    "x_train_down,y_train_down = downsampling(x_train,y_train,0.1)\n",
    "x_train_mix,y_train_mix = upsampling(x_train_down,y_train_down,5)"
   ]
  },
  {
   "cell_type": "markdown",
   "metadata": {},
   "source": [
    "Сделаем функцию обучения модели. На входе будет модель, обучающая выборка, сетка парметров и лучшая модель для f1 score\n",
    "* Для ускорения проверки по умолчанию используется randomized search (среднее время = 5 минут, можно переключить на gridsearch (среднее время = 32 минуты)"
   ]
  },
  {
   "cell_type": "code",
   "execution_count": 17,
   "metadata": {},
   "outputs": [],
   "source": [
    "def training (model,data_x,data_y,parametrs,best_score,best_model):\n",
    "    gs = GridSearchCV(cv=5,estimator = model,\n",
    "                      param_grid = parametrs, \n",
    "                      scoring = 'f1')\n",
    "    rs = RandomizedSearchCV(cv=5,estimator = model, \n",
    "                            param_distributions = parametrs,\n",
    "                            scoring = 'f1', \n",
    "                           n_iter = 50)\n",
    "    \n",
    "    #Строки для RamdomizedSearch\n",
    "    \n",
    "    rs.fit(data_x,data_y)\n",
    "    best_score.append(rs.best_score_)\n",
    "    best_model.append(rs.best_estimator_)\n",
    "    \n",
    "    #Строки для GridSearch\n",
    "    \n",
    "    #gs.fit(data_x,data_y)\n",
    "    #best_score.append(gs.best_score_)\n",
    "    #best_model.append(gs.best_estimator_)\n"
   ]
  },
  {
   "cell_type": "markdown",
   "metadata": {},
   "source": [
    "Получим оптимальные парметры моделей"
   ]
  },
  {
   "cell_type": "code",
   "execution_count": 18,
   "metadata": {
    "scrolled": false
   },
   "outputs": [
    {
     "name": "stdout",
     "output_type": "stream",
     "text": [
      "CPU times: user 30min 39s, sys: 44.9 s, total: 31min 24s\n",
      "Wall time: 31min 45s\n"
     ]
    }
   ],
   "source": [
    "%%time\n",
    "warnings.filterwarnings('ignore')\n",
    "best_score = []\n",
    "best_model = []\n",
    "for x,y in [(x_train,y_train),(x_train_sc,y_train),\n",
    "            (x_train_up,y_train_up),(x_train_down,y_train_down),\n",
    "            (x_train_mix,y_train_mix)]:\n",
    "\n",
    "#for x,y in [x_train,x_train_sc,x_train_up,x_train_down,x_train_mix]:\n",
    "    training(model_1,x,y,params_1,best_score,best_model)\n",
    "    training(model_2,x,y,params_2,best_score,best_model)\n",
    "    training(model_3,x,y,params_3,best_score,best_model)"
   ]
  },
  {
   "cell_type": "markdown",
   "metadata": {},
   "source": [
    "    training(model_1,x,y_train,params_1,best_score,best_model)\n",
    "    training(model_2,x,y_train,params_2,best_score,best_model)\n",
    "    training(model_3,x,y_train,params_3,best_score,best_model)"
   ]
  },
  {
   "cell_type": "markdown",
   "metadata": {},
   "source": [
    "Посмотрим на f1 score, чтобы определить лучшую модель. Порядок моделей:\n",
    "* 0-2 ненормированная выборка: 0 = логистическая регрессия, 1 = Дерево решений, 2 = Случайный лес\n",
    "* 3-5 нормированная выборка: 3 = логистическая регрессия, 4 = Дерево решений, 5 = Случайный лес\n",
    "* 6-8 ненормированный upsampling: 6 = логистическая регрессия, 7 = Дерево решений, 8 = Случайный лес\n",
    "* 9-11 ненормированный downsampling: 9 = логистическая регрессия, 10 = Дерево решений, 11 = Случайный лес\n",
    "* 12-14 ненормированный mixsampling: 12 = логистическая регрессия, 13 = Дерево решений, 14 = Случайный лес"
   ]
  },
  {
   "cell_type": "code",
   "execution_count": 19,
   "metadata": {
    "scrolled": false
   },
   "outputs": [
    {
     "name": "stdout",
     "output_type": "stream",
     "text": [
      "F1 score выбророк на разных моделях:\n",
      "- логистическая регрессия: 0.4925 0.4927 0.7547 0.8474 0.963\n",
      "- дерево решений: 0.5774 0.575 0.9275 0.8624 0.9803\n",
      "- случайный лес: 0.6143 0.6107 0.9532 0.8718 0.9791\n"
     ]
    }
   ],
   "source": [
    "print('F1 score выбророк на разных моделях:')\n",
    "\n",
    "print('- логистическая регрессия:',round(best_score[0],4),round(best_score[3],4),round(best_score[6],4),\n",
    "      round(best_score[9],4),round(best_score[12],4))\n",
    "print('- дерево решений:',round(best_score[1],4),round(best_score[4],4),round(best_score[7],4),\n",
    "      round(best_score[10],4),round(best_score[13],4))\n",
    "print('- случайный лес:',round(best_score[2],4),round(best_score[5],4),round(best_score[8],4),\n",
    "      round(best_score[11],4),round(best_score[14],4))"
   ]
  },
  {
   "cell_type": "markdown",
   "metadata": {},
   "source": [
    "* Модели случайного леса показывают лучшие результаты незавимо от выборки, но на сбалансированной выборке дерево решений показывает f1 score не хуже, чем случайный лес.\n",
    "* Для mix sampling f1 score болше 96% независимо от модели, возможно есть проблема переобучения, не будем учитывать mix sampling. Похожие проблемы есть и с upsampling, downsampling.\n",
    "* Возьмем 2 набора моделей: топ-3 со странной балансировкой и топ-3 без учета балансировка \n"
   ]
  },
  {
   "cell_type": "markdown",
   "metadata": {},
   "source": [
    "Запишем параметры топ-3 моделей для участия в тестировании в выборке с балансированием"
   ]
  },
  {
   "cell_type": "code",
   "execution_count": 20,
   "metadata": {
    "scrolled": true
   },
   "outputs": [],
   "source": [
    "best_model_1 = best_model[10]\n",
    "best_model_2 = best_model[11]\n",
    "best_model_3 = best_model[8]"
   ]
  },
  {
   "cell_type": "markdown",
   "metadata": {},
   "source": [
    "Запишем параметры топ-3 моделей для участия в тестировании в выборке без up/down sampling"
   ]
  },
  {
   "cell_type": "code",
   "execution_count": 26,
   "metadata": {},
   "outputs": [],
   "source": [
    "best_model_4 = best_model[5]\n",
    "best_model_5 = best_model[2]\n",
    "best_model_6 = best_model[4]"
   ]
  },
  {
   "cell_type": "markdown",
   "metadata": {},
   "source": [
    "# 3. Тестирование модели <a class=\"anchor\" id=\"3-bullet\"></a>"
   ]
  },
  {
   "cell_type": "markdown",
   "metadata": {},
   "source": [
    "[Обратно в оглавление](#0-bullet)"
   ]
  },
  {
   "cell_type": "markdown",
   "metadata": {},
   "source": [
    "* При тестировании применим нормировщик (scaler) для моделей, обученных на нормированных данных\n",
    "* Сравним результаты разных моделей и разных обучающих выборок для выбора максимального f1 score"
   ]
  },
  {
   "cell_type": "markdown",
   "metadata": {},
   "source": [
    "Напишем функцию для предсказывания"
   ]
  },
  {
   "cell_type": "code",
   "execution_count": 22,
   "metadata": {},
   "outputs": [],
   "source": [
    "def model_predict(name,model,data_x,data_y):\n",
    "    predictions = model.predict(data_x)\n",
    "    print('F1 score для',name,'равен',round(f1_score(predictions, data_y),3))"
   ]
  },
  {
   "cell_type": "markdown",
   "metadata": {},
   "source": [
    "Для моделей с нормированием (best_model_5,6) нормируем тестовые данные, для остальных моделей тестовые данные оставим без изменения"
   ]
  },
  {
   "cell_type": "code",
   "execution_count": 30,
   "metadata": {},
   "outputs": [
    {
     "name": "stdout",
     "output_type": "stream",
     "text": [
      "---Модели up/down sampling---\n",
      "F1 score для Дерево решений с downsampling равен 0.421\n",
      "F1 score для Случайный лес с downsampling равен 0.438\n",
      "F1 score для Случайный лес с downsampling равен 0.599\n",
      "---Модели без up/down sampling---\n",
      "F1 score для Случайный лес без нормирования равен 0.621\n",
      "F1 score для Случайный лес с нормирования равен 0.587\n",
      "F1 score для Дерево решений с нормирования равен 0.56\n"
     ]
    }
   ],
   "source": [
    "#Нормируем тестовые данные\n",
    "x_test_sc = scaler.transform(x_test)\n",
    "\n",
    "#Прогоняем модели на тестовых данных\n",
    "print('---Модели up/down sampling---')\n",
    "model_predict('Дерево решений с downsampling', best_model_1,x_test,y_test)\n",
    "model_predict('Случайный лес с downsampling', best_model_2,x_test,y_test)\n",
    "model_predict('Случайный лес с downsampling', best_model_3,x_test,y_test)\n",
    "print('---Модели без up/down sampling---')\n",
    "model_predict('Случайный лес с нормированием', best_model_4,x_test_sc,y_test)\n",
    "model_predict('Случайный лес без нормирования', best_model_5,x_test,y_test)\n",
    "model_predict('Дерево решений с нормирования', best_model_6,x_test_sc,y_test)"
   ]
  },
  {
   "cell_type": "markdown",
   "metadata": {},
   "source": [
    "На тестовой выборке модели без up/down sampling показали похожий результат с обучающей выборкой, а а модели с up/down sampling сильно ухудшили f1 score. Похоже, что присутствует переобучение"
   ]
  },
  {
   "cell_type": "code",
   "execution_count": 24,
   "metadata": {},
   "outputs": [
    {
     "data": {
      "text/plain": [
       "RandomForestClassifier(bootstrap=True, class_weight='balanced',\n",
       "                       criterion='gini', max_depth=7, max_features='auto',\n",
       "                       max_leaf_nodes=None, min_impurity_decrease=0.0,\n",
       "                       min_impurity_split=None, min_samples_leaf=1,\n",
       "                       min_samples_split=2, min_weight_fraction_leaf=0.0,\n",
       "                       n_estimators=15, n_jobs=None, oob_score=False,\n",
       "                       random_state=100500, verbose=0, warm_start=False)"
      ]
     },
     "execution_count": 24,
     "metadata": {},
     "output_type": "execute_result"
    }
   ],
   "source": [
    "#Параметры лучшей модели\n",
    "best_model_4"
   ]
  },
  {
   "cell_type": "markdown",
   "metadata": {},
   "source": [
    "# 4. Вывод <a class=\"anchor\" id=\"4-bullet\"></a>"
   ]
  },
  {
   "cell_type": "markdown",
   "metadata": {},
   "source": [
    "[Обратно в оглавление](#0-bullet)"
   ]
  },
  {
   "cell_type": "code",
   "execution_count": 33,
   "metadata": {},
   "outputs": [
    {
     "data": {
      "text/plain": [
       "Text(0.5, 1.0, 'Значимые параметры модели с нормированием')"
      ]
     },
     "execution_count": 33,
     "metadata": {},
     "output_type": "execute_result"
    },
    {
     "data": {
      "image/png": "[encoded data removed]",
      "text/plain": [
       "<Figure size 432x288 with 1 Axes>"
      ]
     },
     "metadata": {},
     "output_type": "display_data"
    }
   ],
   "source": [
    "#найдем топ-10 признаков \n",
    "feature_results_1 = pd.DataFrame({'параметры': list(x_train.columns), \n",
    "                                'значимость': best_model_4.feature_importances_})\n",
    "feature_results_1 = feature_results_1.sort_values('значимость', ascending = False).reset_index(drop=True)\n",
    "#посторим график\n",
    "plt.style.use('fivethirtyeight')\n",
    "feature_results_1.loc[:9, :].plot(x = 'параметры', y = 'значимость', \n",
    "                                 edgecolor = 'k',\n",
    "                                 kind='barh', color = 'blue')\n",
    "plt.xlabel('Относительная значимость', size = 20); plt.ylabel('')\n",
    "plt.title('Значимые параметры модели с нормированием', size = 30)"
   ]
  },
  {
   "cell_type": "markdown",
   "metadata": {},
   "source": [
    "Проверим баланс классов для тестовой и обучающей выборки"
   ]
  },
  {
   "cell_type": "code",
   "execution_count": null,
   "metadata": {},
   "outputs": [],
   "source": [
    "print('Процент \"1\" от общего количества значений')\n",
    "print(' - в обучающей выборке = ',y_train.sum()/len(y_train))\n",
    "print(' - в тестовой выборке = ',y_test.sum()/len(y_test))"
   ]
  },
  {
   "cell_type": "markdown",
   "metadata": {},
   "source": [
    "* Получили максимальный F1 score равный 62,1% на тестовой выброке для модели случайного леса без нормирования данных с парметрами: балансировка, максимальная глубина 7, количество деревьев 15\n",
    "\n",
    "* Самым важным параметром лучшей модели оказался остаток на счете и наличие карты, что похоже на правду"
   ]
  }
 ],
 "metadata": {
  "kernelspec": {
   "display_name": "Python 3",
   "language": "python",
   "name": "python3"
  },
  "language_info": {
   "codemirror_mode": {
    "name": "ipython",
    "version": 3
   },
   "file_extension": ".py",
   "mimetype": "text/x-python",
   "name": "python",
   "nbconvert_exporter": "python",
   "pygments_lexer": "ipython3",
   "version": "3.8.3"
  },
  "toc": {
   "base_numbering": 1,
   "nav_menu": {},
   "number_sections": true,
   "sideBar": true,
   "skip_h1_title": false,
   "title_cell": "Table of Contents",
   "title_sidebar": "Contents",
   "toc_cell": false,
   "toc_position": {},
   "toc_section_display": true,
   "toc_window_display": false
  }
 },
 "nbformat": 4,
 "nbformat_minor": 2
}
